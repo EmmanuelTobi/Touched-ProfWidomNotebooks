{
 "cells": [
  {
   "cell_type": "markdown",
   "metadata": {},
   "source": [
    "### Basic SQL"
   ]
  },
  {
   "cell_type": "code",
   "execution_count": 1,
   "metadata": {},
   "outputs": [
    {
     "data": {
      "text/plain": [
       "'Connected: None@None'"
      ]
     },
     "execution_count": 1,
     "metadata": {},
     "output_type": "execute_result"
    }
   ],
   "source": [
    "%load_ext sql\n",
    "import pandas as pd\n",
    "%sql sqlite://"
   ]
  },
  {
   "cell_type": "code",
   "execution_count": 2,
   "metadata": {
    "collapsed": true
   },
   "outputs": [],
   "source": [
    "# For compatibility across multiple platforms\n",
    "import os\n",
    "IB = os.environ.get('INSTABASE_URI',None) is not None\n",
    "open = ib.open if IB else open"
   ]
  },
  {
   "cell_type": "code",
   "execution_count": 3,
   "metadata": {},
   "outputs": [
    {
     "name": "stdout",
     "output_type": "stream",
     "text": [
      "Done.\n",
      "Done.\n",
      "Done.\n",
      "Done.\n"
     ]
    },
    {
     "name": "stderr",
     "output_type": "stream",
     "text": [
      "/usr/local/lib/python3.5/dist-packages/ipykernel_launcher.py:3: DeprecationWarning: 'U' mode is deprecated\n",
      "  This is separate from the ipykernel package so we can avoid doing imports until\n",
      "/usr/local/lib/python3.5/dist-packages/ipykernel_launcher.py:8: DeprecationWarning: 'U' mode is deprecated\n",
      "  \n",
      "/usr/local/lib/python3.5/dist-packages/ipykernel_launcher.py:13: DeprecationWarning: 'U' mode is deprecated\n",
      "  del sys.path[0]\n",
      "/usr/local/lib/python3.5/dist-packages/ipykernel_launcher.py:18: DeprecationWarning: 'U' mode is deprecated\n"
     ]
    },
    {
     "data": {
      "text/plain": [
       "'Persisted teams'"
      ]
     },
     "execution_count": 3,
     "metadata": {},
     "output_type": "execute_result"
    }
   ],
   "source": [
    "# Load tables from CSV files\n",
    "# Cities\n",
    "with open('Cities.csv','rU') as f:\n",
    "    Cities = pd.read_csv(f, index_col=0, encoding='utf-8')\n",
    "%sql drop table if exists Cities;\n",
    "%sql persist Cities\n",
    "# Countries\n",
    "with open('Countries.csv','rU') as f:\n",
    "    Countries = pd.read_csv(f, index_col=0, encoding='utf-8')\n",
    "%sql drop table if exists Countries;\n",
    "%sql persist Countries\n",
    "# Players\n",
    "with open('Players.csv','rU') as f:\n",
    "    Players = pd.read_csv(f, index_col=0, encoding='utf-8')\n",
    "%sql drop table if exists Players;\n",
    "%sql persist Players\n",
    "# Teams\n",
    "with open('Teams.csv','rU') as f:\n",
    "    Teams = pd.read_csv(f, index_col=0, encoding='utf-8')\n",
    "%sql drop table if exists Teams;\n",
    "%sql persist Teams"
   ]
  },
  {
   "cell_type": "markdown",
   "metadata": {},
   "source": [
    "#### Look at sample of Cities and Countries tables"
   ]
  },
  {
   "cell_type": "code",
   "execution_count": 4,
   "metadata": {},
   "outputs": [
    {
     "name": "stdout",
     "output_type": "stream",
     "text": [
      "Done.\n"
     ]
    },
    {
     "data": {
      "text/html": [
       "<table>\n",
       "    <tr>\n",
       "        <th>city</th>\n",
       "        <th>country</th>\n",
       "        <th>latitude</th>\n",
       "        <th>longitude</th>\n",
       "        <th>temperature</th>\n",
       "    </tr>\n",
       "    <tr>\n",
       "        <td>Aalborg</td>\n",
       "        <td>Denmark</td>\n",
       "        <td>57.03</td>\n",
       "        <td>9.92</td>\n",
       "        <td>7.52</td>\n",
       "    </tr>\n",
       "    <tr>\n",
       "        <td>Aberdeen</td>\n",
       "        <td>United Kingdom</td>\n",
       "        <td>57.17</td>\n",
       "        <td>-2.08</td>\n",
       "        <td>8.1</td>\n",
       "    </tr>\n",
       "    <tr>\n",
       "        <td>Abisko</td>\n",
       "        <td>Sweden</td>\n",
       "        <td>63.35</td>\n",
       "        <td>18.83</td>\n",
       "        <td>0.2</td>\n",
       "    </tr>\n",
       "    <tr>\n",
       "        <td>Adana</td>\n",
       "        <td>Turkey</td>\n",
       "        <td>36.99</td>\n",
       "        <td>35.32</td>\n",
       "        <td>18.67</td>\n",
       "    </tr>\n",
       "    <tr>\n",
       "        <td>Albacete</td>\n",
       "        <td>Spain</td>\n",
       "        <td>39.0</td>\n",
       "        <td>-1.87</td>\n",
       "        <td>12.62</td>\n",
       "    </tr>\n",
       "</table>"
      ],
      "text/plain": [
       "[('Aalborg', 'Denmark', 57.03, 9.92, 7.52),\n",
       " ('Aberdeen', 'United Kingdom', 57.17, -2.08, 8.1),\n",
       " ('Abisko', 'Sweden', 63.35, 18.83, 0.2),\n",
       " ('Adana', 'Turkey', 36.99, 35.32, 18.67),\n",
       " ('Albacete', 'Spain', 39.0, -1.87, 12.62)]"
      ]
     },
     "execution_count": 4,
     "metadata": {},
     "output_type": "execute_result"
    }
   ],
   "source": [
    "%%sql\n",
    "select * from Cities limit 5"
   ]
  },
  {
   "cell_type": "code",
   "execution_count": 5,
   "metadata": {},
   "outputs": [
    {
     "name": "stdout",
     "output_type": "stream",
     "text": [
      "Done.\n"
     ]
    },
    {
     "data": {
      "text/html": [
       "<table>\n",
       "    <tr>\n",
       "        <th>country</th>\n",
       "        <th>population</th>\n",
       "        <th>EU</th>\n",
       "        <th>coastline</th>\n",
       "    </tr>\n",
       "    <tr>\n",
       "        <td>Albania</td>\n",
       "        <td>2.9</td>\n",
       "        <td>no</td>\n",
       "        <td>yes</td>\n",
       "    </tr>\n",
       "    <tr>\n",
       "        <td>Andorra</td>\n",
       "        <td>0.07</td>\n",
       "        <td>no</td>\n",
       "        <td>no</td>\n",
       "    </tr>\n",
       "    <tr>\n",
       "        <td>Austria</td>\n",
       "        <td>8.57</td>\n",
       "        <td>yes</td>\n",
       "        <td>no</td>\n",
       "    </tr>\n",
       "    <tr>\n",
       "        <td>Belarus</td>\n",
       "        <td>9.48</td>\n",
       "        <td>no</td>\n",
       "        <td>no</td>\n",
       "    </tr>\n",
       "    <tr>\n",
       "        <td>Belgium</td>\n",
       "        <td>11.37</td>\n",
       "        <td>yes</td>\n",
       "        <td>yes</td>\n",
       "    </tr>\n",
       "</table>"
      ],
      "text/plain": [
       "[('Albania', 2.9, 'no', 'yes'),\n",
       " ('Andorra', 0.07, 'no', 'no'),\n",
       " ('Austria', 8.57, 'yes', 'no'),\n",
       " ('Belarus', 9.48, 'no', 'no'),\n",
       " ('Belgium', 11.37, 'yes', 'yes')]"
      ]
     },
     "execution_count": 5,
     "metadata": {},
     "output_type": "execute_result"
    }
   ],
   "source": [
    "%%sql\n",
    "select * from Countries limit 5"
   ]
  },
  {
   "cell_type": "markdown",
   "metadata": {},
   "source": [
    "### Basic Select statement\n",
    "Select columns  \n",
    "From tables  \n",
    "Where condition  "
   ]
  },
  {
   "cell_type": "markdown",
   "metadata": {},
   "source": [
    "*Find all countries not in the EU*"
   ]
  },
  {
   "cell_type": "code",
   "execution_count": 6,
   "metadata": {},
   "outputs": [
    {
     "name": "stdout",
     "output_type": "stream",
     "text": [
      "Done.\n"
     ]
    },
    {
     "data": {
      "text/html": [
       "<table>\n",
       "    <tr>\n",
       "        <th>country</th>\n",
       "    </tr>\n",
       "    <tr>\n",
       "        <td>Albania</td>\n",
       "    </tr>\n",
       "    <tr>\n",
       "        <td>Andorra</td>\n",
       "    </tr>\n",
       "    <tr>\n",
       "        <td>Belarus</td>\n",
       "    </tr>\n",
       "    <tr>\n",
       "        <td>Bosnia and Herzegovina</td>\n",
       "    </tr>\n",
       "    <tr>\n",
       "        <td>Iceland</td>\n",
       "    </tr>\n",
       "    <tr>\n",
       "        <td>Kosovo</td>\n",
       "    </tr>\n",
       "    <tr>\n",
       "        <td>Liechtenstein</td>\n",
       "    </tr>\n",
       "    <tr>\n",
       "        <td>Macedonia</td>\n",
       "    </tr>\n",
       "    <tr>\n",
       "        <td>Moldova</td>\n",
       "    </tr>\n",
       "    <tr>\n",
       "        <td>Montenegro</td>\n",
       "    </tr>\n",
       "    <tr>\n",
       "        <td>Norway</td>\n",
       "    </tr>\n",
       "    <tr>\n",
       "        <td>Serbia</td>\n",
       "    </tr>\n",
       "    <tr>\n",
       "        <td>Switzerland</td>\n",
       "    </tr>\n",
       "    <tr>\n",
       "        <td>Turkey</td>\n",
       "    </tr>\n",
       "    <tr>\n",
       "        <td>Ukraine</td>\n",
       "    </tr>\n",
       "</table>"
      ],
      "text/plain": [
       "[('Albania',),\n",
       " ('Andorra',),\n",
       " ('Belarus',),\n",
       " ('Bosnia and Herzegovina',),\n",
       " ('Iceland',),\n",
       " ('Kosovo',),\n",
       " ('Liechtenstein',),\n",
       " ('Macedonia',),\n",
       " ('Moldova',),\n",
       " ('Montenegro',),\n",
       " ('Norway',),\n",
       " ('Serbia',),\n",
       " ('Switzerland',),\n",
       " ('Turkey',),\n",
       " ('Ukraine',)]"
      ]
     },
     "execution_count": 6,
     "metadata": {},
     "output_type": "execute_result"
    }
   ],
   "source": [
    "%%sql\n",
    "select country\n",
    "from Countries\n",
    "where EU = 'no'"
   ]
  },
  {
   "cell_type": "markdown",
   "metadata": {},
   "source": [
    "*Find all cities with temperature between -5 and 5; return city, country, and temperature*"
   ]
  },
  {
   "cell_type": "code",
   "execution_count": 7,
   "metadata": {},
   "outputs": [
    {
     "name": "stdout",
     "output_type": "stream",
     "text": [
      "Done.\n"
     ]
    },
    {
     "data": {
      "text/html": [
       "<table>\n",
       "    <tr>\n",
       "        <th>city</th>\n",
       "        <th>country</th>\n",
       "        <th>temperature</th>\n",
       "    </tr>\n",
       "    <tr>\n",
       "        <td>Abisko</td>\n",
       "        <td>Sweden</td>\n",
       "        <td>0.2</td>\n",
       "    </tr>\n",
       "    <tr>\n",
       "        <td>Augsburg</td>\n",
       "        <td>Germany</td>\n",
       "        <td>4.54</td>\n",
       "    </tr>\n",
       "    <tr>\n",
       "        <td>Bergen</td>\n",
       "        <td>Norway</td>\n",
       "        <td>1.75</td>\n",
       "    </tr>\n",
       "    <tr>\n",
       "        <td>Bodo</td>\n",
       "        <td>Norway</td>\n",
       "        <td>4.5</td>\n",
       "    </tr>\n",
       "    <tr>\n",
       "        <td>Helsinki</td>\n",
       "        <td>Finland</td>\n",
       "        <td>4.19</td>\n",
       "    </tr>\n",
       "    <tr>\n",
       "        <td>Innsbruck</td>\n",
       "        <td>Austria</td>\n",
       "        <td>4.54</td>\n",
       "    </tr>\n",
       "    <tr>\n",
       "        <td>Kiruna</td>\n",
       "        <td>Sweden</td>\n",
       "        <td>-2.2</td>\n",
       "    </tr>\n",
       "    <tr>\n",
       "        <td>Orsha</td>\n",
       "        <td>Belarus</td>\n",
       "        <td>4.93</td>\n",
       "    </tr>\n",
       "    <tr>\n",
       "        <td>Oslo</td>\n",
       "        <td>Norway</td>\n",
       "        <td>2.32</td>\n",
       "    </tr>\n",
       "    <tr>\n",
       "        <td>Oulu</td>\n",
       "        <td>Finland</td>\n",
       "        <td>1.45</td>\n",
       "    </tr>\n",
       "    <tr>\n",
       "        <td>Salzburg</td>\n",
       "        <td>Austria</td>\n",
       "        <td>4.62</td>\n",
       "    </tr>\n",
       "    <tr>\n",
       "        <td>Tallinn</td>\n",
       "        <td>Estonia</td>\n",
       "        <td>4.82</td>\n",
       "    </tr>\n",
       "    <tr>\n",
       "        <td>Tampere</td>\n",
       "        <td>Finland</td>\n",
       "        <td>3.59</td>\n",
       "    </tr>\n",
       "    <tr>\n",
       "        <td>Tartu</td>\n",
       "        <td>Estonia</td>\n",
       "        <td>4.36</td>\n",
       "    </tr>\n",
       "    <tr>\n",
       "        <td>Trondheim</td>\n",
       "        <td>Norway</td>\n",
       "        <td>4.53</td>\n",
       "    </tr>\n",
       "    <tr>\n",
       "        <td>Turku</td>\n",
       "        <td>Finland</td>\n",
       "        <td>4.72</td>\n",
       "    </tr>\n",
       "    <tr>\n",
       "        <td>Uppsala</td>\n",
       "        <td>Sweden</td>\n",
       "        <td>4.17</td>\n",
       "    </tr>\n",
       "</table>"
      ],
      "text/plain": [
       "[('Abisko', 'Sweden', 0.2),\n",
       " ('Augsburg', 'Germany', 4.54),\n",
       " ('Bergen', 'Norway', 1.75),\n",
       " ('Bodo', 'Norway', 4.5),\n",
       " ('Helsinki', 'Finland', 4.19),\n",
       " ('Innsbruck', 'Austria', 4.54),\n",
       " ('Kiruna', 'Sweden', -2.2),\n",
       " ('Orsha', 'Belarus', 4.93),\n",
       " ('Oslo', 'Norway', 2.32),\n",
       " ('Oulu', 'Finland', 1.45),\n",
       " ('Salzburg', 'Austria', 4.62),\n",
       " ('Tallinn', 'Estonia', 4.82),\n",
       " ('Tampere', 'Finland', 3.59),\n",
       " ('Tartu', 'Estonia', 4.36),\n",
       " ('Trondheim', 'Norway', 4.53),\n",
       " ('Turku', 'Finland', 4.72),\n",
       " ('Uppsala', 'Sweden', 4.17)]"
      ]
     },
     "execution_count": 7,
     "metadata": {},
     "output_type": "execute_result"
    }
   ],
   "source": [
    "%%sql\n",
    "select city, country, temperature\n",
    "from Cities\n",
    "where temperature > -5 and temperature < 5"
   ]
  },
  {
   "cell_type": "markdown",
   "metadata": {},
   "source": [
    "### Ordering"
   ]
  },
  {
   "cell_type": "markdown",
   "metadata": {},
   "source": [
    "*Modify previous query to sort by temperature*"
   ]
  },
  {
   "cell_type": "code",
   "execution_count": 28,
   "metadata": {},
   "outputs": [
    {
     "name": "stdout",
     "output_type": "stream",
     "text": [
      "Done.\n"
     ]
    },
    {
     "data": {
      "text/html": [
       "<table>\n",
       "    <tr>\n",
       "        <th>city</th>\n",
       "        <th>country</th>\n",
       "        <th>temperature</th>\n",
       "    </tr>\n",
       "    <tr>\n",
       "        <td>Kiruna</td>\n",
       "        <td>Sweden</td>\n",
       "        <td>-2.2</td>\n",
       "    </tr>\n",
       "    <tr>\n",
       "        <td>Abisko</td>\n",
       "        <td>Sweden</td>\n",
       "        <td>0.2</td>\n",
       "    </tr>\n",
       "    <tr>\n",
       "        <td>Oulu</td>\n",
       "        <td>Finland</td>\n",
       "        <td>1.45</td>\n",
       "    </tr>\n",
       "    <tr>\n",
       "        <td>Bergen</td>\n",
       "        <td>Norway</td>\n",
       "        <td>1.75</td>\n",
       "    </tr>\n",
       "    <tr>\n",
       "        <td>Oslo</td>\n",
       "        <td>Norway</td>\n",
       "        <td>2.32</td>\n",
       "    </tr>\n",
       "    <tr>\n",
       "        <td>Tampere</td>\n",
       "        <td>Finland</td>\n",
       "        <td>3.59</td>\n",
       "    </tr>\n",
       "    <tr>\n",
       "        <td>Uppsala</td>\n",
       "        <td>Sweden</td>\n",
       "        <td>4.17</td>\n",
       "    </tr>\n",
       "    <tr>\n",
       "        <td>Helsinki</td>\n",
       "        <td>Finland</td>\n",
       "        <td>4.19</td>\n",
       "    </tr>\n",
       "    <tr>\n",
       "        <td>Tartu</td>\n",
       "        <td>Estonia</td>\n",
       "        <td>4.36</td>\n",
       "    </tr>\n",
       "    <tr>\n",
       "        <td>Bodo</td>\n",
       "        <td>Norway</td>\n",
       "        <td>4.5</td>\n",
       "    </tr>\n",
       "    <tr>\n",
       "        <td>Trondheim</td>\n",
       "        <td>Norway</td>\n",
       "        <td>4.53</td>\n",
       "    </tr>\n",
       "    <tr>\n",
       "        <td>Augsburg</td>\n",
       "        <td>Germany</td>\n",
       "        <td>4.54</td>\n",
       "    </tr>\n",
       "    <tr>\n",
       "        <td>Innsbruck</td>\n",
       "        <td>Austria</td>\n",
       "        <td>4.54</td>\n",
       "    </tr>\n",
       "    <tr>\n",
       "        <td>Salzburg</td>\n",
       "        <td>Austria</td>\n",
       "        <td>4.62</td>\n",
       "    </tr>\n",
       "    <tr>\n",
       "        <td>Turku</td>\n",
       "        <td>Finland</td>\n",
       "        <td>4.72</td>\n",
       "    </tr>\n",
       "    <tr>\n",
       "        <td>Tallinn</td>\n",
       "        <td>Estonia</td>\n",
       "        <td>4.82</td>\n",
       "    </tr>\n",
       "    <tr>\n",
       "        <td>Orsha</td>\n",
       "        <td>Belarus</td>\n",
       "        <td>4.93</td>\n",
       "    </tr>\n",
       "</table>"
      ],
      "text/plain": [
       "[('Kiruna', 'Sweden', -2.2),\n",
       " ('Abisko', 'Sweden', 0.2),\n",
       " ('Oulu', 'Finland', 1.45),\n",
       " ('Bergen', 'Norway', 1.75),\n",
       " ('Oslo', 'Norway', 2.32),\n",
       " ('Tampere', 'Finland', 3.59),\n",
       " ('Uppsala', 'Sweden', 4.17),\n",
       " ('Helsinki', 'Finland', 4.19),\n",
       " ('Tartu', 'Estonia', 4.36),\n",
       " ('Bodo', 'Norway', 4.5),\n",
       " ('Trondheim', 'Norway', 4.53),\n",
       " ('Augsburg', 'Germany', 4.54),\n",
       " ('Innsbruck', 'Austria', 4.54),\n",
       " ('Salzburg', 'Austria', 4.62),\n",
       " ('Turku', 'Finland', 4.72),\n",
       " ('Tallinn', 'Estonia', 4.82),\n",
       " ('Orsha', 'Belarus', 4.93)]"
      ]
     },
     "execution_count": 28,
     "metadata": {},
     "output_type": "execute_result"
    }
   ],
   "source": [
    "%%sql\n",
    "select city, country, temperature\n",
    "from Cities\n",
    "where temperature > -5 and temperature < 5 order by temperature"
   ]
  },
  {
   "cell_type": "markdown",
   "metadata": {},
   "source": [
    "*Modify previous query to sort by country, then temperature descending*"
   ]
  },
  {
   "cell_type": "code",
   "execution_count": 29,
   "metadata": {},
   "outputs": [
    {
     "name": "stdout",
     "output_type": "stream",
     "text": [
      "Done.\n"
     ]
    },
    {
     "data": {
      "text/html": [
       "<table>\n",
       "    <tr>\n",
       "        <th>city</th>\n",
       "        <th>country</th>\n",
       "        <th>temperature</th>\n",
       "    </tr>\n",
       "    <tr>\n",
       "        <td>Salzburg</td>\n",
       "        <td>Austria</td>\n",
       "        <td>4.62</td>\n",
       "    </tr>\n",
       "    <tr>\n",
       "        <td>Innsbruck</td>\n",
       "        <td>Austria</td>\n",
       "        <td>4.54</td>\n",
       "    </tr>\n",
       "    <tr>\n",
       "        <td>Orsha</td>\n",
       "        <td>Belarus</td>\n",
       "        <td>4.93</td>\n",
       "    </tr>\n",
       "    <tr>\n",
       "        <td>Tallinn</td>\n",
       "        <td>Estonia</td>\n",
       "        <td>4.82</td>\n",
       "    </tr>\n",
       "    <tr>\n",
       "        <td>Tartu</td>\n",
       "        <td>Estonia</td>\n",
       "        <td>4.36</td>\n",
       "    </tr>\n",
       "    <tr>\n",
       "        <td>Turku</td>\n",
       "        <td>Finland</td>\n",
       "        <td>4.72</td>\n",
       "    </tr>\n",
       "    <tr>\n",
       "        <td>Helsinki</td>\n",
       "        <td>Finland</td>\n",
       "        <td>4.19</td>\n",
       "    </tr>\n",
       "    <tr>\n",
       "        <td>Tampere</td>\n",
       "        <td>Finland</td>\n",
       "        <td>3.59</td>\n",
       "    </tr>\n",
       "    <tr>\n",
       "        <td>Oulu</td>\n",
       "        <td>Finland</td>\n",
       "        <td>1.45</td>\n",
       "    </tr>\n",
       "    <tr>\n",
       "        <td>Augsburg</td>\n",
       "        <td>Germany</td>\n",
       "        <td>4.54</td>\n",
       "    </tr>\n",
       "    <tr>\n",
       "        <td>Trondheim</td>\n",
       "        <td>Norway</td>\n",
       "        <td>4.53</td>\n",
       "    </tr>\n",
       "    <tr>\n",
       "        <td>Bodo</td>\n",
       "        <td>Norway</td>\n",
       "        <td>4.5</td>\n",
       "    </tr>\n",
       "    <tr>\n",
       "        <td>Oslo</td>\n",
       "        <td>Norway</td>\n",
       "        <td>2.32</td>\n",
       "    </tr>\n",
       "    <tr>\n",
       "        <td>Bergen</td>\n",
       "        <td>Norway</td>\n",
       "        <td>1.75</td>\n",
       "    </tr>\n",
       "    <tr>\n",
       "        <td>Uppsala</td>\n",
       "        <td>Sweden</td>\n",
       "        <td>4.17</td>\n",
       "    </tr>\n",
       "    <tr>\n",
       "        <td>Abisko</td>\n",
       "        <td>Sweden</td>\n",
       "        <td>0.2</td>\n",
       "    </tr>\n",
       "    <tr>\n",
       "        <td>Kiruna</td>\n",
       "        <td>Sweden</td>\n",
       "        <td>-2.2</td>\n",
       "    </tr>\n",
       "</table>"
      ],
      "text/plain": [
       "[('Salzburg', 'Austria', 4.62),\n",
       " ('Innsbruck', 'Austria', 4.54),\n",
       " ('Orsha', 'Belarus', 4.93),\n",
       " ('Tallinn', 'Estonia', 4.82),\n",
       " ('Tartu', 'Estonia', 4.36),\n",
       " ('Turku', 'Finland', 4.72),\n",
       " ('Helsinki', 'Finland', 4.19),\n",
       " ('Tampere', 'Finland', 3.59),\n",
       " ('Oulu', 'Finland', 1.45),\n",
       " ('Augsburg', 'Germany', 4.54),\n",
       " ('Trondheim', 'Norway', 4.53),\n",
       " ('Bodo', 'Norway', 4.5),\n",
       " ('Oslo', 'Norway', 2.32),\n",
       " ('Bergen', 'Norway', 1.75),\n",
       " ('Uppsala', 'Sweden', 4.17),\n",
       " ('Abisko', 'Sweden', 0.2),\n",
       " ('Kiruna', 'Sweden', -2.2)]"
      ]
     },
     "execution_count": 29,
     "metadata": {},
     "output_type": "execute_result"
    }
   ],
   "source": [
    "%%sql\n",
    "select city, country, temperature\n",
    "from Cities\n",
    "where temperature > -5 and temperature < 5 order by country, temperature desc"
   ]
  },
  {
   "cell_type": "markdown",
   "metadata": {},
   "source": [
    "### <font color = 'green'>Your Turn</font>"
   ]
  },
  {
   "cell_type": "markdown",
   "metadata": {},
   "source": [
    "*Find all countries with no coastline and with population > 9. Return the country and population, in descending order of population.*"
   ]
  },
  {
   "cell_type": "code",
   "execution_count": 30,
   "metadata": {},
   "outputs": [
    {
     "name": "stdout",
     "output_type": "stream",
     "text": [
      "Done.\n"
     ]
    },
    {
     "data": {
      "text/html": [
       "<table>\n",
       "    <tr>\n",
       "        <th>country</th>\n",
       "        <th>population</th>\n",
       "    </tr>\n",
       "    <tr>\n",
       "        <td>Czech Republic</td>\n",
       "        <td>10.55</td>\n",
       "    </tr>\n",
       "    <tr>\n",
       "        <td>Hungary</td>\n",
       "        <td>9.82</td>\n",
       "    </tr>\n",
       "    <tr>\n",
       "        <td>Belarus</td>\n",
       "        <td>9.48</td>\n",
       "    </tr>\n",
       "</table>"
      ],
      "text/plain": [
       "[('Czech Republic', 10.55), ('Hungary', 9.82), ('Belarus', 9.48)]"
      ]
     },
     "execution_count": 30,
     "metadata": {},
     "output_type": "execute_result"
    }
   ],
   "source": [
    "%%sql\n",
    "select country, population\n",
    "from Countries\n",
    "where coastline = 'no' and population > 9\n",
    "order by population desc"
   ]
  },
  {
   "cell_type": "markdown",
   "metadata": {},
   "source": [
    "### Multiple tables in From clause - Joins"
   ]
  },
  {
   "cell_type": "markdown",
   "metadata": {},
   "source": [
    "*Find all cities with longitude < 10 not in the EU, return city and longitude*"
   ]
  },
  {
   "cell_type": "code",
   "execution_count": 9,
   "metadata": {
    "scrolled": true
   },
   "outputs": [
    {
     "name": "stdout",
     "output_type": "stream",
     "text": [
      "Done.\n"
     ]
    },
    {
     "data": {
      "text/html": [
       "<table>\n",
       "    <tr>\n",
       "        <th>city</th>\n",
       "        <th>longitude</th>\n",
       "    </tr>\n",
       "    <tr>\n",
       "        <td>Andorra</td>\n",
       "        <td>1.52</td>\n",
       "    </tr>\n",
       "    <tr>\n",
       "        <td>Basel</td>\n",
       "        <td>7.59</td>\n",
       "    </tr>\n",
       "    <tr>\n",
       "        <td>Bergen</td>\n",
       "        <td>5.32</td>\n",
       "    </tr>\n",
       "    <tr>\n",
       "        <td>Geneva</td>\n",
       "        <td>6.14</td>\n",
       "    </tr>\n",
       "    <tr>\n",
       "        <td>Stavanger</td>\n",
       "        <td>5.68</td>\n",
       "    </tr>\n",
       "    <tr>\n",
       "        <td>Zurich</td>\n",
       "        <td>8.56</td>\n",
       "    </tr>\n",
       "</table>"
      ],
      "text/plain": [
       "[('Andorra', 1.52),\n",
       " ('Basel', 7.59),\n",
       " ('Bergen', 5.32),\n",
       " ('Geneva', 6.14),\n",
       " ('Stavanger', 5.68),\n",
       " ('Zurich', 8.56)]"
      ]
     },
     "execution_count": 9,
     "metadata": {},
     "output_type": "execute_result"
    }
   ],
   "source": [
    "%%sql\n",
    "select city, longitude\n",
    "from Cities, Countries\n",
    "where Cities.country = Countries.country\n",
    "and longitude < 10 and EU = 'no'"
   ]
  },
  {
   "cell_type": "markdown",
   "metadata": {},
   "source": [
    "*Modify previous query to also return country (error then fix)*"
   ]
  },
  {
   "cell_type": "markdown",
   "metadata": {},
   "source": [
    "*Find all cities with latitude < 50 in a country with population < 5; return city, country, and population, sorted by country*"
   ]
  },
  {
   "cell_type": "code",
   "execution_count": 10,
   "metadata": {},
   "outputs": [
    {
     "name": "stdout",
     "output_type": "stream",
     "text": [
      "Done.\n"
     ]
    },
    {
     "data": {
      "text/html": [
       "<table>\n",
       "    <tr>\n",
       "        <th>city</th>\n",
       "        <th>country</th>\n",
       "        <th>population</th>\n",
       "    </tr>\n",
       "    <tr>\n",
       "        <td>Elbasan</td>\n",
       "        <td>Albania</td>\n",
       "        <td>2.9</td>\n",
       "    </tr>\n",
       "    <tr>\n",
       "        <td>Andorra</td>\n",
       "        <td>Andorra</td>\n",
       "        <td>0.07</td>\n",
       "    </tr>\n",
       "    <tr>\n",
       "        <td>Sarajevo</td>\n",
       "        <td>Bosnia and Herzegovina</td>\n",
       "        <td>3.8</td>\n",
       "    </tr>\n",
       "    <tr>\n",
       "        <td>Rijeka</td>\n",
       "        <td>Croatia</td>\n",
       "        <td>4.23</td>\n",
       "    </tr>\n",
       "    <tr>\n",
       "        <td>Split</td>\n",
       "        <td>Croatia</td>\n",
       "        <td>4.23</td>\n",
       "    </tr>\n",
       "    <tr>\n",
       "        <td>Skopje</td>\n",
       "        <td>Macedonia</td>\n",
       "        <td>2.08</td>\n",
       "    </tr>\n",
       "    <tr>\n",
       "        <td>Balti</td>\n",
       "        <td>Moldova</td>\n",
       "        <td>4.06</td>\n",
       "    </tr>\n",
       "    <tr>\n",
       "        <td>Chisinau</td>\n",
       "        <td>Moldova</td>\n",
       "        <td>4.06</td>\n",
       "    </tr>\n",
       "    <tr>\n",
       "        <td>Podgorica</td>\n",
       "        <td>Montenegro</td>\n",
       "        <td>0.63</td>\n",
       "    </tr>\n",
       "    <tr>\n",
       "        <td>Ljubljana</td>\n",
       "        <td>Slovenia</td>\n",
       "        <td>2.07</td>\n",
       "    </tr>\n",
       "</table>"
      ],
      "text/plain": [
       "[('Elbasan', 'Albania', 2.9),\n",
       " ('Andorra', 'Andorra', 0.07),\n",
       " ('Sarajevo', 'Bosnia and Herzegovina', 3.8),\n",
       " ('Rijeka', 'Croatia', 4.23),\n",
       " ('Split', 'Croatia', 4.23),\n",
       " ('Skopje', 'Macedonia', 2.08),\n",
       " ('Balti', 'Moldova', 4.06),\n",
       " ('Chisinau', 'Moldova', 4.06),\n",
       " ('Podgorica', 'Montenegro', 0.63),\n",
       " ('Ljubljana', 'Slovenia', 2.07)]"
      ]
     },
     "execution_count": 10,
     "metadata": {},
     "output_type": "execute_result"
    }
   ],
   "source": [
    "%%sql\n",
    "select city, Cities.country, population\n",
    "from Cities, Countries\n",
    "where Cities.country = Countries.country\n",
    "and latitude < 50 and population < 5\n",
    "order by Cities.country"
   ]
  },
  {
   "cell_type": "markdown",
   "metadata": {},
   "source": [
    "#### Inner Join -- just FYI"
   ]
  },
  {
   "cell_type": "markdown",
   "metadata": {},
   "source": [
    "*Same query as above*"
   ]
  },
  {
   "cell_type": "code",
   "execution_count": 11,
   "metadata": {},
   "outputs": [
    {
     "name": "stdout",
     "output_type": "stream",
     "text": [
      "Done.\n"
     ]
    },
    {
     "data": {
      "text/html": [
       "<table>\n",
       "    <tr>\n",
       "        <th>city</th>\n",
       "        <th>country</th>\n",
       "        <th>population</th>\n",
       "    </tr>\n",
       "    <tr>\n",
       "        <td>Elbasan</td>\n",
       "        <td>Albania</td>\n",
       "        <td>2.9</td>\n",
       "    </tr>\n",
       "    <tr>\n",
       "        <td>Andorra</td>\n",
       "        <td>Andorra</td>\n",
       "        <td>0.07</td>\n",
       "    </tr>\n",
       "    <tr>\n",
       "        <td>Sarajevo</td>\n",
       "        <td>Bosnia and Herzegovina</td>\n",
       "        <td>3.8</td>\n",
       "    </tr>\n",
       "    <tr>\n",
       "        <td>Rijeka</td>\n",
       "        <td>Croatia</td>\n",
       "        <td>4.23</td>\n",
       "    </tr>\n",
       "    <tr>\n",
       "        <td>Split</td>\n",
       "        <td>Croatia</td>\n",
       "        <td>4.23</td>\n",
       "    </tr>\n",
       "    <tr>\n",
       "        <td>Skopje</td>\n",
       "        <td>Macedonia</td>\n",
       "        <td>2.08</td>\n",
       "    </tr>\n",
       "    <tr>\n",
       "        <td>Balti</td>\n",
       "        <td>Moldova</td>\n",
       "        <td>4.06</td>\n",
       "    </tr>\n",
       "    <tr>\n",
       "        <td>Chisinau</td>\n",
       "        <td>Moldova</td>\n",
       "        <td>4.06</td>\n",
       "    </tr>\n",
       "    <tr>\n",
       "        <td>Podgorica</td>\n",
       "        <td>Montenegro</td>\n",
       "        <td>0.63</td>\n",
       "    </tr>\n",
       "    <tr>\n",
       "        <td>Ljubljana</td>\n",
       "        <td>Slovenia</td>\n",
       "        <td>2.07</td>\n",
       "    </tr>\n",
       "</table>"
      ],
      "text/plain": [
       "[('Elbasan', 'Albania', 2.9),\n",
       " ('Andorra', 'Andorra', 0.07),\n",
       " ('Sarajevo', 'Bosnia and Herzegovina', 3.8),\n",
       " ('Rijeka', 'Croatia', 4.23),\n",
       " ('Split', 'Croatia', 4.23),\n",
       " ('Skopje', 'Macedonia', 2.08),\n",
       " ('Balti', 'Moldova', 4.06),\n",
       " ('Chisinau', 'Moldova', 4.06),\n",
       " ('Podgorica', 'Montenegro', 0.63),\n",
       " ('Ljubljana', 'Slovenia', 2.07)]"
      ]
     },
     "execution_count": 11,
     "metadata": {},
     "output_type": "execute_result"
    }
   ],
   "source": [
    "%%sql\n",
    "select city, Cities.country, population\n",
    "from Cities inner join Countries\n",
    "     on Cities.country = Countries.country\n",
    "where latitude < 50 and population < 5\n",
    "order by Cities.country"
   ]
  },
  {
   "cell_type": "markdown",
   "metadata": {},
   "source": [
    "### Select *"
   ]
  },
  {
   "cell_type": "markdown",
   "metadata": {},
   "source": [
    "*Modify previous queries to return all attributes*"
   ]
  },
  {
   "cell_type": "code",
   "execution_count": 31,
   "metadata": {},
   "outputs": [
    {
     "name": "stdout",
     "output_type": "stream",
     "text": [
      "Done.\n"
     ]
    },
    {
     "data": {
      "text/html": [
       "<table>\n",
       "    <tr>\n",
       "        <th>city</th>\n",
       "        <th>country</th>\n",
       "        <th>latitude</th>\n",
       "        <th>longitude</th>\n",
       "        <th>temperature</th>\n",
       "        <th>country_1</th>\n",
       "        <th>population</th>\n",
       "        <th>EU</th>\n",
       "        <th>coastline</th>\n",
       "    </tr>\n",
       "    <tr>\n",
       "        <td>Elbasan</td>\n",
       "        <td>Albania</td>\n",
       "        <td>41.12</td>\n",
       "        <td>20.08</td>\n",
       "        <td>15.18</td>\n",
       "        <td>Albania</td>\n",
       "        <td>2.9</td>\n",
       "        <td>no</td>\n",
       "        <td>yes</td>\n",
       "    </tr>\n",
       "    <tr>\n",
       "        <td>Andorra</td>\n",
       "        <td>Andorra</td>\n",
       "        <td>42.5</td>\n",
       "        <td>1.52</td>\n",
       "        <td>9.6</td>\n",
       "        <td>Andorra</td>\n",
       "        <td>0.07</td>\n",
       "        <td>no</td>\n",
       "        <td>no</td>\n",
       "    </tr>\n",
       "    <tr>\n",
       "        <td>Sarajevo</td>\n",
       "        <td>Bosnia and Herzegovina</td>\n",
       "        <td>43.85</td>\n",
       "        <td>13.38</td>\n",
       "        <td>9.6</td>\n",
       "        <td>Bosnia and Herzegovina</td>\n",
       "        <td>3.8</td>\n",
       "        <td>no</td>\n",
       "        <td>yes</td>\n",
       "    </tr>\n",
       "    <tr>\n",
       "        <td>Rijeka</td>\n",
       "        <td>Croatia</td>\n",
       "        <td>45.33</td>\n",
       "        <td>14.45</td>\n",
       "        <td>9.27</td>\n",
       "        <td>Croatia</td>\n",
       "        <td>4.23</td>\n",
       "        <td>yes</td>\n",
       "        <td>yes</td>\n",
       "    </tr>\n",
       "    <tr>\n",
       "        <td>Split</td>\n",
       "        <td>Croatia</td>\n",
       "        <td>43.52</td>\n",
       "        <td>16.47</td>\n",
       "        <td>12.46</td>\n",
       "        <td>Croatia</td>\n",
       "        <td>4.23</td>\n",
       "        <td>yes</td>\n",
       "        <td>yes</td>\n",
       "    </tr>\n",
       "    <tr>\n",
       "        <td>Skopje</td>\n",
       "        <td>Macedonia</td>\n",
       "        <td>42.0</td>\n",
       "        <td>21.43</td>\n",
       "        <td>9.36</td>\n",
       "        <td>Macedonia</td>\n",
       "        <td>2.08</td>\n",
       "        <td>no</td>\n",
       "        <td>no</td>\n",
       "    </tr>\n",
       "    <tr>\n",
       "        <td>Balti</td>\n",
       "        <td>Moldova</td>\n",
       "        <td>47.76</td>\n",
       "        <td>27.91</td>\n",
       "        <td>8.23</td>\n",
       "        <td>Moldova</td>\n",
       "        <td>4.06</td>\n",
       "        <td>no</td>\n",
       "        <td>no</td>\n",
       "    </tr>\n",
       "    <tr>\n",
       "        <td>Chisinau</td>\n",
       "        <td>Moldova</td>\n",
       "        <td>47.01</td>\n",
       "        <td>28.86</td>\n",
       "        <td>8.6</td>\n",
       "        <td>Moldova</td>\n",
       "        <td>4.06</td>\n",
       "        <td>no</td>\n",
       "        <td>no</td>\n",
       "    </tr>\n",
       "    <tr>\n",
       "        <td>Podgorica</td>\n",
       "        <td>Montenegro</td>\n",
       "        <td>42.47</td>\n",
       "        <td>19.27</td>\n",
       "        <td>9.99</td>\n",
       "        <td>Montenegro</td>\n",
       "        <td>0.63</td>\n",
       "        <td>no</td>\n",
       "        <td>yes</td>\n",
       "    </tr>\n",
       "    <tr>\n",
       "        <td>Ljubljana</td>\n",
       "        <td>Slovenia</td>\n",
       "        <td>46.06</td>\n",
       "        <td>14.51</td>\n",
       "        <td>9.27</td>\n",
       "        <td>Slovenia</td>\n",
       "        <td>2.07</td>\n",
       "        <td>yes</td>\n",
       "        <td>yes</td>\n",
       "    </tr>\n",
       "</table>"
      ],
      "text/plain": [
       "[('Elbasan', 'Albania', 41.12, 20.08, 15.18, 'Albania', 2.9, 'no', 'yes'),\n",
       " ('Andorra', 'Andorra', 42.5, 1.52, 9.6, 'Andorra', 0.07, 'no', 'no'),\n",
       " ('Sarajevo', 'Bosnia and Herzegovina', 43.85, 13.38, 9.6, 'Bosnia and Herzegovina', 3.8, 'no', 'yes'),\n",
       " ('Rijeka', 'Croatia', 45.33, 14.45, 9.27, 'Croatia', 4.23, 'yes', 'yes'),\n",
       " ('Split', 'Croatia', 43.52, 16.47, 12.46, 'Croatia', 4.23, 'yes', 'yes'),\n",
       " ('Skopje', 'Macedonia', 42.0, 21.43, 9.36, 'Macedonia', 2.08, 'no', 'no'),\n",
       " ('Balti', 'Moldova', 47.76, 27.91, 8.23, 'Moldova', 4.06, 'no', 'no'),\n",
       " ('Chisinau', 'Moldova', 47.01, 28.86, 8.6, 'Moldova', 4.06, 'no', 'no'),\n",
       " ('Podgorica', 'Montenegro', 42.47, 19.27, 9.99, 'Montenegro', 0.63, 'no', 'yes'),\n",
       " ('Ljubljana', 'Slovenia', 46.06, 14.51, 9.27, 'Slovenia', 2.07, 'yes', 'yes')]"
      ]
     },
     "execution_count": 31,
     "metadata": {},
     "output_type": "execute_result"
    }
   ],
   "source": [
    "%%sql\n",
    "select *\n",
    "from Cities inner join Countries\n",
    "    on Cities.country = Countries.country\n",
    "where latitude < 50 and population < 5\n",
    "order by Cities.country"
   ]
  },
  {
   "cell_type": "markdown",
   "metadata": {},
   "source": [
    "### <font color = 'green'>Your Turn</font>"
   ]
  },
  {
   "cell_type": "markdown",
   "metadata": {},
   "source": [
    "*Find all cities with latitude > 45 in a country with no coastline and with population > 9. Return the city, country, latitude, and whether it's in the EU.*"
   ]
  },
  {
   "cell_type": "code",
   "execution_count": 32,
   "metadata": {},
   "outputs": [
    {
     "name": "stdout",
     "output_type": "stream",
     "text": [
      "Done.\n"
     ]
    },
    {
     "data": {
      "text/html": [
       "<table>\n",
       "    <tr>\n",
       "        <th>city</th>\n",
       "        <th>country</th>\n",
       "        <th>latitude</th>\n",
       "        <th>EU</th>\n",
       "    </tr>\n",
       "    <tr>\n",
       "        <td>Brest</td>\n",
       "        <td>Belarus</td>\n",
       "        <td>52.1</td>\n",
       "        <td>no</td>\n",
       "    </tr>\n",
       "    <tr>\n",
       "        <td>Brno</td>\n",
       "        <td>Czech Republic</td>\n",
       "        <td>49.2</td>\n",
       "        <td>yes</td>\n",
       "    </tr>\n",
       "    <tr>\n",
       "        <td>Budapest</td>\n",
       "        <td>Hungary</td>\n",
       "        <td>47.5</td>\n",
       "        <td>yes</td>\n",
       "    </tr>\n",
       "    <tr>\n",
       "        <td>Debrecen</td>\n",
       "        <td>Hungary</td>\n",
       "        <td>47.53</td>\n",
       "        <td>yes</td>\n",
       "    </tr>\n",
       "    <tr>\n",
       "        <td>Gyor</td>\n",
       "        <td>Hungary</td>\n",
       "        <td>47.7</td>\n",
       "        <td>yes</td>\n",
       "    </tr>\n",
       "    <tr>\n",
       "        <td>Hrodna</td>\n",
       "        <td>Belarus</td>\n",
       "        <td>53.68</td>\n",
       "        <td>no</td>\n",
       "    </tr>\n",
       "    <tr>\n",
       "        <td>Mazyr</td>\n",
       "        <td>Belarus</td>\n",
       "        <td>52.05</td>\n",
       "        <td>no</td>\n",
       "    </tr>\n",
       "    <tr>\n",
       "        <td>Minsk</td>\n",
       "        <td>Belarus</td>\n",
       "        <td>53.9</td>\n",
       "        <td>no</td>\n",
       "    </tr>\n",
       "    <tr>\n",
       "        <td>Orsha</td>\n",
       "        <td>Belarus</td>\n",
       "        <td>54.52</td>\n",
       "        <td>no</td>\n",
       "    </tr>\n",
       "    <tr>\n",
       "        <td>Ostrava</td>\n",
       "        <td>Czech Republic</td>\n",
       "        <td>49.83</td>\n",
       "        <td>yes</td>\n",
       "    </tr>\n",
       "    <tr>\n",
       "        <td>Pinsk</td>\n",
       "        <td>Belarus</td>\n",
       "        <td>52.13</td>\n",
       "        <td>no</td>\n",
       "    </tr>\n",
       "    <tr>\n",
       "        <td>Prague</td>\n",
       "        <td>Czech Republic</td>\n",
       "        <td>50.08</td>\n",
       "        <td>yes</td>\n",
       "    </tr>\n",
       "    <tr>\n",
       "        <td>Szeged</td>\n",
       "        <td>Hungary</td>\n",
       "        <td>46.25</td>\n",
       "        <td>yes</td>\n",
       "    </tr>\n",
       "</table>"
      ],
      "text/plain": [
       "[('Brest', 'Belarus', 52.1, 'no'),\n",
       " ('Brno', 'Czech Republic', 49.2, 'yes'),\n",
       " ('Budapest', 'Hungary', 47.5, 'yes'),\n",
       " ('Debrecen', 'Hungary', 47.53, 'yes'),\n",
       " ('Gyor', 'Hungary', 47.7, 'yes'),\n",
       " ('Hrodna', 'Belarus', 53.68, 'no'),\n",
       " ('Mazyr', 'Belarus', 52.05, 'no'),\n",
       " ('Minsk', 'Belarus', 53.9, 'no'),\n",
       " ('Orsha', 'Belarus', 54.52, 'no'),\n",
       " ('Ostrava', 'Czech Republic', 49.83, 'yes'),\n",
       " ('Pinsk', 'Belarus', 52.13, 'no'),\n",
       " ('Prague', 'Czech Republic', 50.08, 'yes'),\n",
       " ('Szeged', 'Hungary', 46.25, 'yes')]"
      ]
     },
     "execution_count": 32,
     "metadata": {},
     "output_type": "execute_result"
    }
   ],
   "source": [
    "%%sql\n",
    "select city, Cities.country, latitude, EU\n",
    "from Cities inner join Countries\n",
    "    on Cities.country = Countries.country\n",
    "where latitude > 45 and coastline = 'no' and population > 9"
   ]
  },
  {
   "cell_type": "markdown",
   "metadata": {},
   "source": [
    "### Aggregation and Grouping"
   ]
  },
  {
   "cell_type": "markdown",
   "metadata": {},
   "source": [
    "*Find average temperature for all cities*"
   ]
  },
  {
   "cell_type": "code",
   "execution_count": 13,
   "metadata": {},
   "outputs": [
    {
     "name": "stdout",
     "output_type": "stream",
     "text": [
      "Done.\n"
     ]
    },
    {
     "data": {
      "text/html": [
       "<table>\n",
       "    <tr>\n",
       "        <th>avg(temperature)</th>\n",
       "    </tr>\n",
       "    <tr>\n",
       "        <td>9.497840375586858</td>\n",
       "    </tr>\n",
       "</table>"
      ],
      "text/plain": [
       "[(9.497840375586858,)]"
      ]
     },
     "execution_count": 13,
     "metadata": {},
     "output_type": "execute_result"
    }
   ],
   "source": [
    "%%sql\n",
    "select avg(temperature)\n",
    "from Cities"
   ]
  },
  {
   "cell_type": "markdown",
   "metadata": {},
   "source": [
    "*Modify previous query to find average temperature of cities with latitude > 55*"
   ]
  },
  {
   "cell_type": "code",
   "execution_count": 33,
   "metadata": {},
   "outputs": [
    {
     "name": "stdout",
     "output_type": "stream",
     "text": [
      "Done.\n"
     ]
    },
    {
     "data": {
      "text/html": [
       "<table>\n",
       "    <tr>\n",
       "        <th>avg(temperature)</th>\n",
       "    </tr>\n",
       "    <tr>\n",
       "        <td>4.985185185185185</td>\n",
       "    </tr>\n",
       "</table>"
      ],
      "text/plain": [
       "[(4.985185185185185,)]"
      ]
     },
     "execution_count": 33,
     "metadata": {},
     "output_type": "execute_result"
    }
   ],
   "source": [
    "%%sql\n",
    "select avg(temperature)\n",
    "from Cities\n",
    "where latitude > 55"
   ]
  },
  {
   "cell_type": "markdown",
   "metadata": {},
   "source": [
    "*Modify previous query to also find minimum and maxiumum temperature of cities with latitude > 55*"
   ]
  },
  {
   "cell_type": "code",
   "execution_count": 34,
   "metadata": {},
   "outputs": [
    {
     "name": "stdout",
     "output_type": "stream",
     "text": [
      "Done.\n"
     ]
    },
    {
     "data": {
      "text/html": [
       "<table>\n",
       "    <tr>\n",
       "        <th>max(temperature)</th>\n",
       "        <th>min(temperature)</th>\n",
       "    </tr>\n",
       "    <tr>\n",
       "        <td>8.6</td>\n",
       "        <td>-2.2</td>\n",
       "    </tr>\n",
       "</table>"
      ],
      "text/plain": [
       "[(8.6, -2.2)]"
      ]
     },
     "execution_count": 34,
     "metadata": {},
     "output_type": "execute_result"
    }
   ],
   "source": [
    "%%sql\n",
    "select max(temperature), min(temperature)\n",
    "from Cities\n",
    "where latitude > 55"
   ]
  },
  {
   "cell_type": "markdown",
   "metadata": {},
   "source": [
    "*Modify previous query to return number of cities with latitude > 55*"
   ]
  },
  {
   "cell_type": "code",
   "execution_count": 35,
   "metadata": {},
   "outputs": [
    {
     "name": "stdout",
     "output_type": "stream",
     "text": [
      "Done.\n"
     ]
    },
    {
     "data": {
      "text/html": [
       "<table>\n",
       "    <tr>\n",
       "        <th>count(city)</th>\n",
       "    </tr>\n",
       "    <tr>\n",
       "        <td>27</td>\n",
       "    </tr>\n",
       "</table>"
      ],
      "text/plain": [
       "[(27,)]"
      ]
     },
     "execution_count": 35,
     "metadata": {},
     "output_type": "execute_result"
    }
   ],
   "source": [
    "%%sql\n",
    "select count(city)\n",
    "from Cities\n",
    "where latitude > 55"
   ]
  },
  {
   "cell_type": "markdown",
   "metadata": {},
   "source": [
    "*Rename result column as northerns*"
   ]
  },
  {
   "cell_type": "code",
   "execution_count": 36,
   "metadata": {},
   "outputs": [
    {
     "name": "stdout",
     "output_type": "stream",
     "text": [
      "Done.\n"
     ]
    },
    {
     "data": {
      "text/html": [
       "<table>\n",
       "    <tr>\n",
       "        <th>northerns</th>\n",
       "    </tr>\n",
       "    <tr>\n",
       "        <td>27</td>\n",
       "    </tr>\n",
       "</table>"
      ],
      "text/plain": [
       "[(27,)]"
      ]
     },
     "execution_count": 36,
     "metadata": {},
     "output_type": "execute_result"
    }
   ],
   "source": [
    "%%sql\n",
    "select count(city) as northerns\n",
    "from Cities\n",
    "where latitude > 55"
   ]
  },
  {
   "cell_type": "markdown",
   "metadata": {},
   "source": [
    "*Find minimum and maximum temperature of cities in the EU (then not in the EU)*"
   ]
  },
  {
   "cell_type": "code",
   "execution_count": 37,
   "metadata": {},
   "outputs": [
    {
     "name": "stdout",
     "output_type": "stream",
     "text": [
      "Done.\n"
     ]
    },
    {
     "data": {
      "text/html": [
       "<table>\n",
       "    <tr>\n",
       "        <th>min(temperature)</th>\n",
       "        <th>max(temperature)</th>\n",
       "    </tr>\n",
       "    <tr>\n",
       "        <td>-2.2</td>\n",
       "        <td>17.9</td>\n",
       "    </tr>\n",
       "</table>"
      ],
      "text/plain": [
       "[(-2.2, 17.9)]"
      ]
     },
     "execution_count": 37,
     "metadata": {},
     "output_type": "execute_result"
    }
   ],
   "source": [
    "%%sql\n",
    "select min(temperature), max(temperature)\n",
    "from Cities, Countries\n",
    "where Cities.country = Countries.country\n",
    "and EU = 'yes'"
   ]
  },
  {
   "cell_type": "code",
   "execution_count": 38,
   "metadata": {},
   "outputs": [
    {
     "name": "stdout",
     "output_type": "stream",
     "text": [
      "Done.\n"
     ]
    },
    {
     "data": {
      "text/html": [
       "<table>\n",
       "    <tr>\n",
       "        <th>min(temperature)</th>\n",
       "        <th>max(temperature)</th>\n",
       "    </tr>\n",
       "    <tr>\n",
       "        <td>-2.2</td>\n",
       "        <td>17.9</td>\n",
       "    </tr>\n",
       "</table>"
      ],
      "text/plain": [
       "[(-2.2, 17.9)]"
      ]
     },
     "execution_count": 38,
     "metadata": {},
     "output_type": "execute_result"
    }
   ],
   "source": [
    "%%sql\n",
    "select min(temperature), max(temperature)\n",
    "from Cities, Countries\n",
    "where Cities.country = Countries.Country\n",
    "and EU = 'yes'"
   ]
  },
  {
   "cell_type": "markdown",
   "metadata": {},
   "source": [
    "### <font color = 'green'>Your Turn</font>"
   ]
  },
  {
   "cell_type": "markdown",
   "metadata": {},
   "source": [
    "*Find the number of cities with latitude > 45 in a country with no coastline and with population > 9. Return the number of cities along with their minimum and maximum latitude.*"
   ]
  },
  {
   "cell_type": "code",
   "execution_count": 39,
   "metadata": {},
   "outputs": [
    {
     "name": "stdout",
     "output_type": "stream",
     "text": [
      "Done.\n"
     ]
    },
    {
     "data": {
      "text/html": [
       "<table>\n",
       "    <tr>\n",
       "        <th>number of cities</th>\n",
       "        <th>minimum latitude</th>\n",
       "        <th>maximum latitude</th>\n",
       "    </tr>\n",
       "    <tr>\n",
       "        <td>13</td>\n",
       "        <td>46.25</td>\n",
       "        <td>54.52</td>\n",
       "    </tr>\n",
       "</table>"
      ],
      "text/plain": [
       "[(13, 46.25, 54.52)]"
      ]
     },
     "execution_count": 39,
     "metadata": {},
     "output_type": "execute_result"
    }
   ],
   "source": [
    "%%sql\n",
    "select count(city) as 'number of cities', min(latitude) as 'minimum latitude', max(latitude) as 'maximum latitude'\n",
    "from Cities inner join Countries\n",
    "    on Cities.country = Countries.country\n",
    "where latitude > 45 and coastline = 'no' and population > 9"
   ]
  },
  {
   "cell_type": "markdown",
   "metadata": {},
   "source": [
    "*Find average temperature for each country*"
   ]
  },
  {
   "cell_type": "code",
   "execution_count": 16,
   "metadata": {},
   "outputs": [
    {
     "name": "stdout",
     "output_type": "stream",
     "text": [
      "Done.\n"
     ]
    },
    {
     "data": {
      "text/html": [
       "<table>\n",
       "    <tr>\n",
       "        <th>country</th>\n",
       "        <th>avg(temperature)</th>\n",
       "    </tr>\n",
       "    <tr>\n",
       "        <td>Albania</td>\n",
       "        <td>15.18</td>\n",
       "    </tr>\n",
       "    <tr>\n",
       "        <td>Andorra</td>\n",
       "        <td>9.6</td>\n",
       "    </tr>\n",
       "    <tr>\n",
       "        <td>Austria</td>\n",
       "        <td>6.144</td>\n",
       "    </tr>\n",
       "    <tr>\n",
       "        <td>Belarus</td>\n",
       "        <td>5.946666666666666</td>\n",
       "    </tr>\n",
       "    <tr>\n",
       "        <td>Belgium</td>\n",
       "        <td>9.65</td>\n",
       "    </tr>\n",
       "    <tr>\n",
       "        <td>Bosnia and Herzegovina</td>\n",
       "        <td>9.6</td>\n",
       "    </tr>\n",
       "    <tr>\n",
       "        <td>Bulgaria</td>\n",
       "        <td>10.44</td>\n",
       "    </tr>\n",
       "    <tr>\n",
       "        <td>Croatia</td>\n",
       "        <td>10.865</td>\n",
       "    </tr>\n",
       "    <tr>\n",
       "        <td>Czech Republic</td>\n",
       "        <td>7.8566666666666665</td>\n",
       "    </tr>\n",
       "    <tr>\n",
       "        <td>Denmark</td>\n",
       "        <td>7.625</td>\n",
       "    </tr>\n",
       "    <tr>\n",
       "        <td>Estonia</td>\n",
       "        <td>4.59</td>\n",
       "    </tr>\n",
       "    <tr>\n",
       "        <td>Finland</td>\n",
       "        <td>3.4875</td>\n",
       "    </tr>\n",
       "    <tr>\n",
       "        <td>France</td>\n",
       "        <td>10.151111111111112</td>\n",
       "    </tr>\n",
       "    <tr>\n",
       "        <td>Germany</td>\n",
       "        <td>7.869285714285714</td>\n",
       "    </tr>\n",
       "    <tr>\n",
       "        <td>Greece</td>\n",
       "        <td>16.9025</td>\n",
       "    </tr>\n",
       "    <tr>\n",
       "        <td>Hungary</td>\n",
       "        <td>9.6025</td>\n",
       "    </tr>\n",
       "    <tr>\n",
       "        <td>Ireland</td>\n",
       "        <td>9.299999999999999</td>\n",
       "    </tr>\n",
       "    <tr>\n",
       "        <td>Italy</td>\n",
       "        <td>13.474666666666668</td>\n",
       "    </tr>\n",
       "    <tr>\n",
       "        <td>Latvia</td>\n",
       "        <td>5.27</td>\n",
       "    </tr>\n",
       "    <tr>\n",
       "        <td>Lithuania</td>\n",
       "        <td>6.1433333333333335</td>\n",
       "    </tr>\n",
       "    <tr>\n",
       "        <td>Macedonia</td>\n",
       "        <td>9.36</td>\n",
       "    </tr>\n",
       "    <tr>\n",
       "        <td>Moldova</td>\n",
       "        <td>8.415</td>\n",
       "    </tr>\n",
       "    <tr>\n",
       "        <td>Montenegro</td>\n",
       "        <td>9.99</td>\n",
       "    </tr>\n",
       "    <tr>\n",
       "        <td>Netherlands</td>\n",
       "        <td>8.756666666666668</td>\n",
       "    </tr>\n",
       "    <tr>\n",
       "        <td>Norway</td>\n",
       "        <td>3.7260000000000004</td>\n",
       "    </tr>\n",
       "    <tr>\n",
       "        <td>Poland</td>\n",
       "        <td>7.250000000000002</td>\n",
       "    </tr>\n",
       "    <tr>\n",
       "        <td>Portugal</td>\n",
       "        <td>14.469999999999999</td>\n",
       "    </tr>\n",
       "    <tr>\n",
       "        <td>Romania</td>\n",
       "        <td>9.224444444444444</td>\n",
       "    </tr>\n",
       "    <tr>\n",
       "        <td>Serbia</td>\n",
       "        <td>9.85</td>\n",
       "    </tr>\n",
       "    <tr>\n",
       "        <td>Slovakia</td>\n",
       "        <td>8.48</td>\n",
       "    </tr>\n",
       "    <tr>\n",
       "        <td>Slovenia</td>\n",
       "        <td>9.27</td>\n",
       "    </tr>\n",
       "    <tr>\n",
       "        <td>Spain</td>\n",
       "        <td>14.238333333333332</td>\n",
       "    </tr>\n",
       "    <tr>\n",
       "        <td>Sweden</td>\n",
       "        <td>3.5866666666666673</td>\n",
       "    </tr>\n",
       "    <tr>\n",
       "        <td>Switzerland</td>\n",
       "        <td>7.253333333333333</td>\n",
       "    </tr>\n",
       "    <tr>\n",
       "        <td>Turkey</td>\n",
       "        <td>11.726666666666665</td>\n",
       "    </tr>\n",
       "    <tr>\n",
       "        <td>Ukraine</td>\n",
       "        <td>7.420000000000002</td>\n",
       "    </tr>\n",
       "    <tr>\n",
       "        <td>United Kingdom</td>\n",
       "        <td>8.649999999999999</td>\n",
       "    </tr>\n",
       "</table>"
      ],
      "text/plain": [
       "[('Albania', 15.18),\n",
       " ('Andorra', 9.6),\n",
       " ('Austria', 6.144),\n",
       " ('Belarus', 5.946666666666666),\n",
       " ('Belgium', 9.65),\n",
       " ('Bosnia and Herzegovina', 9.6),\n",
       " ('Bulgaria', 10.44),\n",
       " ('Croatia', 10.865),\n",
       " ('Czech Republic', 7.8566666666666665),\n",
       " ('Denmark', 7.625),\n",
       " ('Estonia', 4.59),\n",
       " ('Finland', 3.4875),\n",
       " ('France', 10.151111111111112),\n",
       " ('Germany', 7.869285714285714),\n",
       " ('Greece', 16.9025),\n",
       " ('Hungary', 9.6025),\n",
       " ('Ireland', 9.299999999999999),\n",
       " ('Italy', 13.474666666666668),\n",
       " ('Latvia', 5.27),\n",
       " ('Lithuania', 6.1433333333333335),\n",
       " ('Macedonia', 9.36),\n",
       " ('Moldova', 8.415),\n",
       " ('Montenegro', 9.99),\n",
       " ('Netherlands', 8.756666666666668),\n",
       " ('Norway', 3.7260000000000004),\n",
       " ('Poland', 7.250000000000002),\n",
       " ('Portugal', 14.469999999999999),\n",
       " ('Romania', 9.224444444444444),\n",
       " ('Serbia', 9.85),\n",
       " ('Slovakia', 8.48),\n",
       " ('Slovenia', 9.27),\n",
       " ('Spain', 14.238333333333332),\n",
       " ('Sweden', 3.5866666666666673),\n",
       " ('Switzerland', 7.253333333333333),\n",
       " ('Turkey', 11.726666666666665),\n",
       " ('Ukraine', 7.420000000000002),\n",
       " ('United Kingdom', 8.649999999999999)]"
      ]
     },
     "execution_count": 16,
     "metadata": {},
     "output_type": "execute_result"
    }
   ],
   "source": [
    "%%sql\n",
    "select country, avg(temperature)\n",
    "from Cities\n",
    "group by country"
   ]
  },
  {
   "cell_type": "markdown",
   "metadata": {},
   "source": [
    "*Modify previous query to sort by descending average temperature*"
   ]
  },
  {
   "cell_type": "code",
   "execution_count": 40,
   "metadata": {},
   "outputs": [
    {
     "name": "stdout",
     "output_type": "stream",
     "text": [
      "Done.\n"
     ]
    },
    {
     "data": {
      "text/html": [
       "<table>\n",
       "    <tr>\n",
       "        <th>country</th>\n",
       "        <th>avg(temperature)</th>\n",
       "    </tr>\n",
       "    <tr>\n",
       "        <td>Greece</td>\n",
       "        <td>16.9025</td>\n",
       "    </tr>\n",
       "    <tr>\n",
       "        <td>Albania</td>\n",
       "        <td>15.18</td>\n",
       "    </tr>\n",
       "    <tr>\n",
       "        <td>Portugal</td>\n",
       "        <td>14.469999999999999</td>\n",
       "    </tr>\n",
       "    <tr>\n",
       "        <td>Spain</td>\n",
       "        <td>14.238333333333332</td>\n",
       "    </tr>\n",
       "    <tr>\n",
       "        <td>Italy</td>\n",
       "        <td>13.474666666666668</td>\n",
       "    </tr>\n",
       "    <tr>\n",
       "        <td>Turkey</td>\n",
       "        <td>11.726666666666665</td>\n",
       "    </tr>\n",
       "    <tr>\n",
       "        <td>Croatia</td>\n",
       "        <td>10.865</td>\n",
       "    </tr>\n",
       "    <tr>\n",
       "        <td>Bulgaria</td>\n",
       "        <td>10.44</td>\n",
       "    </tr>\n",
       "    <tr>\n",
       "        <td>France</td>\n",
       "        <td>10.151111111111112</td>\n",
       "    </tr>\n",
       "    <tr>\n",
       "        <td>Montenegro</td>\n",
       "        <td>9.99</td>\n",
       "    </tr>\n",
       "    <tr>\n",
       "        <td>Serbia</td>\n",
       "        <td>9.85</td>\n",
       "    </tr>\n",
       "    <tr>\n",
       "        <td>Belgium</td>\n",
       "        <td>9.65</td>\n",
       "    </tr>\n",
       "    <tr>\n",
       "        <td>Hungary</td>\n",
       "        <td>9.6025</td>\n",
       "    </tr>\n",
       "    <tr>\n",
       "        <td>Andorra</td>\n",
       "        <td>9.6</td>\n",
       "    </tr>\n",
       "    <tr>\n",
       "        <td>Bosnia and Herzegovina</td>\n",
       "        <td>9.6</td>\n",
       "    </tr>\n",
       "    <tr>\n",
       "        <td>Macedonia</td>\n",
       "        <td>9.36</td>\n",
       "    </tr>\n",
       "    <tr>\n",
       "        <td>Ireland</td>\n",
       "        <td>9.299999999999999</td>\n",
       "    </tr>\n",
       "    <tr>\n",
       "        <td>Slovenia</td>\n",
       "        <td>9.27</td>\n",
       "    </tr>\n",
       "    <tr>\n",
       "        <td>Romania</td>\n",
       "        <td>9.224444444444444</td>\n",
       "    </tr>\n",
       "    <tr>\n",
       "        <td>Netherlands</td>\n",
       "        <td>8.756666666666668</td>\n",
       "    </tr>\n",
       "    <tr>\n",
       "        <td>United Kingdom</td>\n",
       "        <td>8.649999999999999</td>\n",
       "    </tr>\n",
       "    <tr>\n",
       "        <td>Slovakia</td>\n",
       "        <td>8.48</td>\n",
       "    </tr>\n",
       "    <tr>\n",
       "        <td>Moldova</td>\n",
       "        <td>8.415</td>\n",
       "    </tr>\n",
       "    <tr>\n",
       "        <td>Germany</td>\n",
       "        <td>7.869285714285714</td>\n",
       "    </tr>\n",
       "    <tr>\n",
       "        <td>Czech Republic</td>\n",
       "        <td>7.8566666666666665</td>\n",
       "    </tr>\n",
       "    <tr>\n",
       "        <td>Denmark</td>\n",
       "        <td>7.625</td>\n",
       "    </tr>\n",
       "    <tr>\n",
       "        <td>Ukraine</td>\n",
       "        <td>7.420000000000002</td>\n",
       "    </tr>\n",
       "    <tr>\n",
       "        <td>Switzerland</td>\n",
       "        <td>7.253333333333333</td>\n",
       "    </tr>\n",
       "    <tr>\n",
       "        <td>Poland</td>\n",
       "        <td>7.250000000000002</td>\n",
       "    </tr>\n",
       "    <tr>\n",
       "        <td>Austria</td>\n",
       "        <td>6.144</td>\n",
       "    </tr>\n",
       "    <tr>\n",
       "        <td>Lithuania</td>\n",
       "        <td>6.1433333333333335</td>\n",
       "    </tr>\n",
       "    <tr>\n",
       "        <td>Belarus</td>\n",
       "        <td>5.946666666666666</td>\n",
       "    </tr>\n",
       "    <tr>\n",
       "        <td>Latvia</td>\n",
       "        <td>5.27</td>\n",
       "    </tr>\n",
       "    <tr>\n",
       "        <td>Estonia</td>\n",
       "        <td>4.59</td>\n",
       "    </tr>\n",
       "    <tr>\n",
       "        <td>Norway</td>\n",
       "        <td>3.7260000000000004</td>\n",
       "    </tr>\n",
       "    <tr>\n",
       "        <td>Sweden</td>\n",
       "        <td>3.5866666666666673</td>\n",
       "    </tr>\n",
       "    <tr>\n",
       "        <td>Finland</td>\n",
       "        <td>3.4875</td>\n",
       "    </tr>\n",
       "</table>"
      ],
      "text/plain": [
       "[('Greece', 16.9025),\n",
       " ('Albania', 15.18),\n",
       " ('Portugal', 14.469999999999999),\n",
       " ('Spain', 14.238333333333332),\n",
       " ('Italy', 13.474666666666668),\n",
       " ('Turkey', 11.726666666666665),\n",
       " ('Croatia', 10.865),\n",
       " ('Bulgaria', 10.44),\n",
       " ('France', 10.151111111111112),\n",
       " ('Montenegro', 9.99),\n",
       " ('Serbia', 9.85),\n",
       " ('Belgium', 9.65),\n",
       " ('Hungary', 9.6025),\n",
       " ('Andorra', 9.6),\n",
       " ('Bosnia and Herzegovina', 9.6),\n",
       " ('Macedonia', 9.36),\n",
       " ('Ireland', 9.299999999999999),\n",
       " ('Slovenia', 9.27),\n",
       " ('Romania', 9.224444444444444),\n",
       " ('Netherlands', 8.756666666666668),\n",
       " ('United Kingdom', 8.649999999999999),\n",
       " ('Slovakia', 8.48),\n",
       " ('Moldova', 8.415),\n",
       " ('Germany', 7.869285714285714),\n",
       " ('Czech Republic', 7.8566666666666665),\n",
       " ('Denmark', 7.625),\n",
       " ('Ukraine', 7.420000000000002),\n",
       " ('Switzerland', 7.253333333333333),\n",
       " ('Poland', 7.250000000000002),\n",
       " ('Austria', 6.144),\n",
       " ('Lithuania', 6.1433333333333335),\n",
       " ('Belarus', 5.946666666666666),\n",
       " ('Latvia', 5.27),\n",
       " ('Estonia', 4.59),\n",
       " ('Norway', 3.7260000000000004),\n",
       " ('Sweden', 3.5866666666666673),\n",
       " ('Finland', 3.4875)]"
      ]
     },
     "execution_count": 40,
     "metadata": {},
     "output_type": "execute_result"
    }
   ],
   "source": [
    "%%sql\n",
    "select country, avg(temperature)\n",
    "from Cities\n",
    "group by country\n",
    "order by avg(temperature) desc"
   ]
  },
  {
   "cell_type": "markdown",
   "metadata": {},
   "source": [
    "*Modify previous query to show countries only*"
   ]
  },
  {
   "cell_type": "code",
   "execution_count": 41,
   "metadata": {},
   "outputs": [
    {
     "name": "stdout",
     "output_type": "stream",
     "text": [
      "Done.\n"
     ]
    },
    {
     "data": {
      "text/html": [
       "<table>\n",
       "    <tr>\n",
       "        <th>country</th>\n",
       "    </tr>\n",
       "    <tr>\n",
       "        <td>Greece</td>\n",
       "    </tr>\n",
       "    <tr>\n",
       "        <td>Albania</td>\n",
       "    </tr>\n",
       "    <tr>\n",
       "        <td>Portugal</td>\n",
       "    </tr>\n",
       "    <tr>\n",
       "        <td>Spain</td>\n",
       "    </tr>\n",
       "    <tr>\n",
       "        <td>Italy</td>\n",
       "    </tr>\n",
       "    <tr>\n",
       "        <td>Turkey</td>\n",
       "    </tr>\n",
       "    <tr>\n",
       "        <td>Croatia</td>\n",
       "    </tr>\n",
       "    <tr>\n",
       "        <td>Bulgaria</td>\n",
       "    </tr>\n",
       "    <tr>\n",
       "        <td>France</td>\n",
       "    </tr>\n",
       "    <tr>\n",
       "        <td>Montenegro</td>\n",
       "    </tr>\n",
       "    <tr>\n",
       "        <td>Serbia</td>\n",
       "    </tr>\n",
       "    <tr>\n",
       "        <td>Belgium</td>\n",
       "    </tr>\n",
       "    <tr>\n",
       "        <td>Hungary</td>\n",
       "    </tr>\n",
       "    <tr>\n",
       "        <td>Andorra</td>\n",
       "    </tr>\n",
       "    <tr>\n",
       "        <td>Bosnia and Herzegovina</td>\n",
       "    </tr>\n",
       "    <tr>\n",
       "        <td>Macedonia</td>\n",
       "    </tr>\n",
       "    <tr>\n",
       "        <td>Ireland</td>\n",
       "    </tr>\n",
       "    <tr>\n",
       "        <td>Slovenia</td>\n",
       "    </tr>\n",
       "    <tr>\n",
       "        <td>Romania</td>\n",
       "    </tr>\n",
       "    <tr>\n",
       "        <td>Netherlands</td>\n",
       "    </tr>\n",
       "    <tr>\n",
       "        <td>United Kingdom</td>\n",
       "    </tr>\n",
       "    <tr>\n",
       "        <td>Slovakia</td>\n",
       "    </tr>\n",
       "    <tr>\n",
       "        <td>Moldova</td>\n",
       "    </tr>\n",
       "    <tr>\n",
       "        <td>Germany</td>\n",
       "    </tr>\n",
       "    <tr>\n",
       "        <td>Czech Republic</td>\n",
       "    </tr>\n",
       "    <tr>\n",
       "        <td>Denmark</td>\n",
       "    </tr>\n",
       "    <tr>\n",
       "        <td>Ukraine</td>\n",
       "    </tr>\n",
       "    <tr>\n",
       "        <td>Switzerland</td>\n",
       "    </tr>\n",
       "    <tr>\n",
       "        <td>Poland</td>\n",
       "    </tr>\n",
       "    <tr>\n",
       "        <td>Austria</td>\n",
       "    </tr>\n",
       "    <tr>\n",
       "        <td>Lithuania</td>\n",
       "    </tr>\n",
       "    <tr>\n",
       "        <td>Belarus</td>\n",
       "    </tr>\n",
       "    <tr>\n",
       "        <td>Latvia</td>\n",
       "    </tr>\n",
       "    <tr>\n",
       "        <td>Estonia</td>\n",
       "    </tr>\n",
       "    <tr>\n",
       "        <td>Norway</td>\n",
       "    </tr>\n",
       "    <tr>\n",
       "        <td>Sweden</td>\n",
       "    </tr>\n",
       "    <tr>\n",
       "        <td>Finland</td>\n",
       "    </tr>\n",
       "</table>"
      ],
      "text/plain": [
       "[('Greece',),\n",
       " ('Albania',),\n",
       " ('Portugal',),\n",
       " ('Spain',),\n",
       " ('Italy',),\n",
       " ('Turkey',),\n",
       " ('Croatia',),\n",
       " ('Bulgaria',),\n",
       " ('France',),\n",
       " ('Montenegro',),\n",
       " ('Serbia',),\n",
       " ('Belgium',),\n",
       " ('Hungary',),\n",
       " ('Andorra',),\n",
       " ('Bosnia and Herzegovina',),\n",
       " ('Macedonia',),\n",
       " ('Ireland',),\n",
       " ('Slovenia',),\n",
       " ('Romania',),\n",
       " ('Netherlands',),\n",
       " ('United Kingdom',),\n",
       " ('Slovakia',),\n",
       " ('Moldova',),\n",
       " ('Germany',),\n",
       " ('Czech Republic',),\n",
       " ('Denmark',),\n",
       " ('Ukraine',),\n",
       " ('Switzerland',),\n",
       " ('Poland',),\n",
       " ('Austria',),\n",
       " ('Lithuania',),\n",
       " ('Belarus',),\n",
       " ('Latvia',),\n",
       " ('Estonia',),\n",
       " ('Norway',),\n",
       " ('Sweden',),\n",
       " ('Finland',)]"
      ]
     },
     "execution_count": 41,
     "metadata": {},
     "output_type": "execute_result"
    }
   ],
   "source": [
    "%%sql\n",
    "select country\n",
    "from Cities\n",
    "group by country\n",
    "order by avg(temperature) desc"
   ]
  },
  {
   "cell_type": "markdown",
   "metadata": {},
   "source": [
    "*Modify previous query to find average temperature for cities in countries with and without coastline, then cities in the EU and not in the EU, then all combinations*"
   ]
  },
  {
   "cell_type": "code",
   "execution_count": 42,
   "metadata": {},
   "outputs": [
    {
     "name": "stdout",
     "output_type": "stream",
     "text": [
      "Done.\n"
     ]
    },
    {
     "data": {
      "text/html": [
       "<table>\n",
       "    <tr>\n",
       "        <th>country</th>\n",
       "        <th>avg(temperature)</th>\n",
       "    </tr>\n",
       "    <tr>\n",
       "        <td>Andorra</td>\n",
       "        <td>9.6</td>\n",
       "    </tr>\n",
       "    <tr>\n",
       "        <td>Austria</td>\n",
       "        <td>6.144</td>\n",
       "    </tr>\n",
       "    <tr>\n",
       "        <td>Belarus</td>\n",
       "        <td>5.946666666666666</td>\n",
       "    </tr>\n",
       "    <tr>\n",
       "        <td>Czech Republic</td>\n",
       "        <td>7.8566666666666665</td>\n",
       "    </tr>\n",
       "    <tr>\n",
       "        <td>Hungary</td>\n",
       "        <td>9.6025</td>\n",
       "    </tr>\n",
       "    <tr>\n",
       "        <td>Macedonia</td>\n",
       "        <td>9.36</td>\n",
       "    </tr>\n",
       "    <tr>\n",
       "        <td>Moldova</td>\n",
       "        <td>8.415</td>\n",
       "    </tr>\n",
       "    <tr>\n",
       "        <td>Serbia</td>\n",
       "        <td>9.85</td>\n",
       "    </tr>\n",
       "    <tr>\n",
       "        <td>Slovakia</td>\n",
       "        <td>8.48</td>\n",
       "    </tr>\n",
       "    <tr>\n",
       "        <td>Switzerland</td>\n",
       "        <td>7.253333333333333</td>\n",
       "    </tr>\n",
       "</table>"
      ],
      "text/plain": [
       "[('Andorra', 9.6),\n",
       " ('Austria', 6.144),\n",
       " ('Belarus', 5.946666666666666),\n",
       " ('Czech Republic', 7.8566666666666665),\n",
       " ('Hungary', 9.6025),\n",
       " ('Macedonia', 9.36),\n",
       " ('Moldova', 8.415),\n",
       " ('Serbia', 9.85),\n",
       " ('Slovakia', 8.48),\n",
       " ('Switzerland', 7.253333333333333)]"
      ]
     },
     "execution_count": 42,
     "metadata": {},
     "output_type": "execute_result"
    }
   ],
   "source": [
    "%%sql\n",
    "select Cities.country, avg(temperature)\n",
    "from Cities inner join Countries\n",
    "    on Cities.country = Countries.country\n",
    "where coastline = 'no'\n",
    "group by Cities.country"
   ]
  },
  {
   "cell_type": "code",
   "execution_count": 43,
   "metadata": {},
   "outputs": [
    {
     "name": "stdout",
     "output_type": "stream",
     "text": [
      "Done.\n"
     ]
    },
    {
     "data": {
      "text/html": [
       "<table>\n",
       "    <tr>\n",
       "        <th>country</th>\n",
       "        <th>avg(temperature)</th>\n",
       "    </tr>\n",
       "    <tr>\n",
       "        <td>Albania</td>\n",
       "        <td>15.18</td>\n",
       "    </tr>\n",
       "    <tr>\n",
       "        <td>Belgium</td>\n",
       "        <td>9.65</td>\n",
       "    </tr>\n",
       "    <tr>\n",
       "        <td>Bosnia and Herzegovina</td>\n",
       "        <td>9.6</td>\n",
       "    </tr>\n",
       "    <tr>\n",
       "        <td>Bulgaria</td>\n",
       "        <td>10.44</td>\n",
       "    </tr>\n",
       "    <tr>\n",
       "        <td>Croatia</td>\n",
       "        <td>10.865</td>\n",
       "    </tr>\n",
       "    <tr>\n",
       "        <td>Denmark</td>\n",
       "        <td>7.625</td>\n",
       "    </tr>\n",
       "    <tr>\n",
       "        <td>Estonia</td>\n",
       "        <td>4.59</td>\n",
       "    </tr>\n",
       "    <tr>\n",
       "        <td>Finland</td>\n",
       "        <td>3.4875</td>\n",
       "    </tr>\n",
       "    <tr>\n",
       "        <td>France</td>\n",
       "        <td>10.151111111111112</td>\n",
       "    </tr>\n",
       "    <tr>\n",
       "        <td>Germany</td>\n",
       "        <td>7.869285714285714</td>\n",
       "    </tr>\n",
       "    <tr>\n",
       "        <td>Greece</td>\n",
       "        <td>16.9025</td>\n",
       "    </tr>\n",
       "    <tr>\n",
       "        <td>Ireland</td>\n",
       "        <td>9.299999999999999</td>\n",
       "    </tr>\n",
       "    <tr>\n",
       "        <td>Italy</td>\n",
       "        <td>13.474666666666668</td>\n",
       "    </tr>\n",
       "    <tr>\n",
       "        <td>Latvia</td>\n",
       "        <td>5.27</td>\n",
       "    </tr>\n",
       "    <tr>\n",
       "        <td>Lithuania</td>\n",
       "        <td>6.1433333333333335</td>\n",
       "    </tr>\n",
       "    <tr>\n",
       "        <td>Montenegro</td>\n",
       "        <td>9.99</td>\n",
       "    </tr>\n",
       "    <tr>\n",
       "        <td>Netherlands</td>\n",
       "        <td>8.756666666666668</td>\n",
       "    </tr>\n",
       "    <tr>\n",
       "        <td>Norway</td>\n",
       "        <td>3.7260000000000004</td>\n",
       "    </tr>\n",
       "    <tr>\n",
       "        <td>Poland</td>\n",
       "        <td>7.250000000000002</td>\n",
       "    </tr>\n",
       "    <tr>\n",
       "        <td>Portugal</td>\n",
       "        <td>14.469999999999999</td>\n",
       "    </tr>\n",
       "    <tr>\n",
       "        <td>Romania</td>\n",
       "        <td>9.224444444444444</td>\n",
       "    </tr>\n",
       "    <tr>\n",
       "        <td>Slovenia</td>\n",
       "        <td>9.27</td>\n",
       "    </tr>\n",
       "    <tr>\n",
       "        <td>Spain</td>\n",
       "        <td>14.238333333333332</td>\n",
       "    </tr>\n",
       "    <tr>\n",
       "        <td>Sweden</td>\n",
       "        <td>3.5866666666666673</td>\n",
       "    </tr>\n",
       "    <tr>\n",
       "        <td>Turkey</td>\n",
       "        <td>11.726666666666665</td>\n",
       "    </tr>\n",
       "    <tr>\n",
       "        <td>Ukraine</td>\n",
       "        <td>7.420000000000002</td>\n",
       "    </tr>\n",
       "    <tr>\n",
       "        <td>United Kingdom</td>\n",
       "        <td>8.649999999999999</td>\n",
       "    </tr>\n",
       "</table>"
      ],
      "text/plain": [
       "[('Albania', 15.18),\n",
       " ('Belgium', 9.65),\n",
       " ('Bosnia and Herzegovina', 9.6),\n",
       " ('Bulgaria', 10.44),\n",
       " ('Croatia', 10.865),\n",
       " ('Denmark', 7.625),\n",
       " ('Estonia', 4.59),\n",
       " ('Finland', 3.4875),\n",
       " ('France', 10.151111111111112),\n",
       " ('Germany', 7.869285714285714),\n",
       " ('Greece', 16.9025),\n",
       " ('Ireland', 9.299999999999999),\n",
       " ('Italy', 13.474666666666668),\n",
       " ('Latvia', 5.27),\n",
       " ('Lithuania', 6.1433333333333335),\n",
       " ('Montenegro', 9.99),\n",
       " ('Netherlands', 8.756666666666668),\n",
       " ('Norway', 3.7260000000000004),\n",
       " ('Poland', 7.250000000000002),\n",
       " ('Portugal', 14.469999999999999),\n",
       " ('Romania', 9.224444444444444),\n",
       " ('Slovenia', 9.27),\n",
       " ('Spain', 14.238333333333332),\n",
       " ('Sweden', 3.5866666666666673),\n",
       " ('Turkey', 11.726666666666665),\n",
       " ('Ukraine', 7.420000000000002),\n",
       " ('United Kingdom', 8.649999999999999)]"
      ]
     },
     "execution_count": 43,
     "metadata": {},
     "output_type": "execute_result"
    }
   ],
   "source": [
    "%%sql\n",
    "select Cities.country, avg(temperature)\n",
    "from Cities inner join Countries\n",
    "    on Cities.country = Countries.country\n",
    "where coastline = 'yes'\n",
    "group by Cities.country"
   ]
  },
  {
   "cell_type": "code",
   "execution_count": 44,
   "metadata": {},
   "outputs": [
    {
     "name": "stdout",
     "output_type": "stream",
     "text": [
      "Done.\n"
     ]
    },
    {
     "data": {
      "text/html": [
       "<table>\n",
       "    <tr>\n",
       "        <th>country</th>\n",
       "        <th>avg(temperature)</th>\n",
       "    </tr>\n",
       "    <tr>\n",
       "        <td>Austria</td>\n",
       "        <td>6.144</td>\n",
       "    </tr>\n",
       "    <tr>\n",
       "        <td>Belgium</td>\n",
       "        <td>9.65</td>\n",
       "    </tr>\n",
       "    <tr>\n",
       "        <td>Bulgaria</td>\n",
       "        <td>10.44</td>\n",
       "    </tr>\n",
       "    <tr>\n",
       "        <td>Croatia</td>\n",
       "        <td>10.865</td>\n",
       "    </tr>\n",
       "    <tr>\n",
       "        <td>Czech Republic</td>\n",
       "        <td>7.8566666666666665</td>\n",
       "    </tr>\n",
       "    <tr>\n",
       "        <td>Denmark</td>\n",
       "        <td>7.625</td>\n",
       "    </tr>\n",
       "    <tr>\n",
       "        <td>Estonia</td>\n",
       "        <td>4.59</td>\n",
       "    </tr>\n",
       "    <tr>\n",
       "        <td>Finland</td>\n",
       "        <td>3.4875</td>\n",
       "    </tr>\n",
       "    <tr>\n",
       "        <td>France</td>\n",
       "        <td>10.151111111111112</td>\n",
       "    </tr>\n",
       "    <tr>\n",
       "        <td>Germany</td>\n",
       "        <td>7.869285714285714</td>\n",
       "    </tr>\n",
       "    <tr>\n",
       "        <td>Greece</td>\n",
       "        <td>16.9025</td>\n",
       "    </tr>\n",
       "    <tr>\n",
       "        <td>Hungary</td>\n",
       "        <td>9.6025</td>\n",
       "    </tr>\n",
       "    <tr>\n",
       "        <td>Ireland</td>\n",
       "        <td>9.299999999999999</td>\n",
       "    </tr>\n",
       "    <tr>\n",
       "        <td>Italy</td>\n",
       "        <td>13.474666666666668</td>\n",
       "    </tr>\n",
       "    <tr>\n",
       "        <td>Latvia</td>\n",
       "        <td>5.27</td>\n",
       "    </tr>\n",
       "    <tr>\n",
       "        <td>Lithuania</td>\n",
       "        <td>6.1433333333333335</td>\n",
       "    </tr>\n",
       "    <tr>\n",
       "        <td>Netherlands</td>\n",
       "        <td>8.756666666666668</td>\n",
       "    </tr>\n",
       "    <tr>\n",
       "        <td>Poland</td>\n",
       "        <td>7.250000000000002</td>\n",
       "    </tr>\n",
       "    <tr>\n",
       "        <td>Portugal</td>\n",
       "        <td>14.469999999999999</td>\n",
       "    </tr>\n",
       "    <tr>\n",
       "        <td>Romania</td>\n",
       "        <td>9.224444444444444</td>\n",
       "    </tr>\n",
       "    <tr>\n",
       "        <td>Slovakia</td>\n",
       "        <td>8.48</td>\n",
       "    </tr>\n",
       "    <tr>\n",
       "        <td>Slovenia</td>\n",
       "        <td>9.27</td>\n",
       "    </tr>\n",
       "    <tr>\n",
       "        <td>Spain</td>\n",
       "        <td>14.238333333333332</td>\n",
       "    </tr>\n",
       "    <tr>\n",
       "        <td>Sweden</td>\n",
       "        <td>3.5866666666666673</td>\n",
       "    </tr>\n",
       "    <tr>\n",
       "        <td>United Kingdom</td>\n",
       "        <td>8.649999999999999</td>\n",
       "    </tr>\n",
       "</table>"
      ],
      "text/plain": [
       "[('Austria', 6.144),\n",
       " ('Belgium', 9.65),\n",
       " ('Bulgaria', 10.44),\n",
       " ('Croatia', 10.865),\n",
       " ('Czech Republic', 7.8566666666666665),\n",
       " ('Denmark', 7.625),\n",
       " ('Estonia', 4.59),\n",
       " ('Finland', 3.4875),\n",
       " ('France', 10.151111111111112),\n",
       " ('Germany', 7.869285714285714),\n",
       " ('Greece', 16.9025),\n",
       " ('Hungary', 9.6025),\n",
       " ('Ireland', 9.299999999999999),\n",
       " ('Italy', 13.474666666666668),\n",
       " ('Latvia', 5.27),\n",
       " ('Lithuania', 6.1433333333333335),\n",
       " ('Netherlands', 8.756666666666668),\n",
       " ('Poland', 7.250000000000002),\n",
       " ('Portugal', 14.469999999999999),\n",
       " ('Romania', 9.224444444444444),\n",
       " ('Slovakia', 8.48),\n",
       " ('Slovenia', 9.27),\n",
       " ('Spain', 14.238333333333332),\n",
       " ('Sweden', 3.5866666666666673),\n",
       " ('United Kingdom', 8.649999999999999)]"
      ]
     },
     "execution_count": 44,
     "metadata": {},
     "output_type": "execute_result"
    }
   ],
   "source": [
    "%%sql\n",
    "select Cities.country, avg(temperature)\n",
    "from Cities inner join Countries\n",
    "    on Cities.country = Countries.country\n",
    "where EU = 'yes'\n",
    "group by Cities.country"
   ]
  },
  {
   "cell_type": "code",
   "execution_count": 45,
   "metadata": {},
   "outputs": [
    {
     "name": "stdout",
     "output_type": "stream",
     "text": [
      "Done.\n"
     ]
    },
    {
     "data": {
      "text/html": [
       "<table>\n",
       "    <tr>\n",
       "        <th>country</th>\n",
       "        <th>avg(temperature)</th>\n",
       "    </tr>\n",
       "    <tr>\n",
       "        <td>Albania</td>\n",
       "        <td>15.18</td>\n",
       "    </tr>\n",
       "    <tr>\n",
       "        <td>Andorra</td>\n",
       "        <td>9.6</td>\n",
       "    </tr>\n",
       "    <tr>\n",
       "        <td>Belarus</td>\n",
       "        <td>5.946666666666666</td>\n",
       "    </tr>\n",
       "    <tr>\n",
       "        <td>Bosnia and Herzegovina</td>\n",
       "        <td>9.6</td>\n",
       "    </tr>\n",
       "    <tr>\n",
       "        <td>Macedonia</td>\n",
       "        <td>9.36</td>\n",
       "    </tr>\n",
       "    <tr>\n",
       "        <td>Moldova</td>\n",
       "        <td>8.415</td>\n",
       "    </tr>\n",
       "    <tr>\n",
       "        <td>Montenegro</td>\n",
       "        <td>9.99</td>\n",
       "    </tr>\n",
       "    <tr>\n",
       "        <td>Norway</td>\n",
       "        <td>3.7260000000000004</td>\n",
       "    </tr>\n",
       "    <tr>\n",
       "        <td>Serbia</td>\n",
       "        <td>9.85</td>\n",
       "    </tr>\n",
       "    <tr>\n",
       "        <td>Switzerland</td>\n",
       "        <td>7.253333333333333</td>\n",
       "    </tr>\n",
       "    <tr>\n",
       "        <td>Turkey</td>\n",
       "        <td>11.726666666666665</td>\n",
       "    </tr>\n",
       "    <tr>\n",
       "        <td>Ukraine</td>\n",
       "        <td>7.420000000000002</td>\n",
       "    </tr>\n",
       "</table>"
      ],
      "text/plain": [
       "[('Albania', 15.18),\n",
       " ('Andorra', 9.6),\n",
       " ('Belarus', 5.946666666666666),\n",
       " ('Bosnia and Herzegovina', 9.6),\n",
       " ('Macedonia', 9.36),\n",
       " ('Moldova', 8.415),\n",
       " ('Montenegro', 9.99),\n",
       " ('Norway', 3.7260000000000004),\n",
       " ('Serbia', 9.85),\n",
       " ('Switzerland', 7.253333333333333),\n",
       " ('Turkey', 11.726666666666665),\n",
       " ('Ukraine', 7.420000000000002)]"
      ]
     },
     "execution_count": 45,
     "metadata": {},
     "output_type": "execute_result"
    }
   ],
   "source": [
    "%%sql\n",
    "select Cities.country, avg(temperature)\n",
    "from Cities inner join Countries\n",
    "    on Cities.country = Countries.country\n",
    "where EU = 'no'\n",
    "group by Cities.country"
   ]
  },
  {
   "cell_type": "code",
   "execution_count": 46,
   "metadata": {},
   "outputs": [
    {
     "name": "stdout",
     "output_type": "stream",
     "text": [
      "Done.\n"
     ]
    },
    {
     "data": {
      "text/html": [
       "<table>\n",
       "    <tr>\n",
       "        <th>coastline</th>\n",
       "        <th>EU</th>\n",
       "        <th>avg(temperature)</th>\n",
       "    </tr>\n",
       "    <tr>\n",
       "        <td>no</td>\n",
       "        <td>no</td>\n",
       "        <td>7.67375</td>\n",
       "    </tr>\n",
       "    <tr>\n",
       "        <td>no</td>\n",
       "        <td>yes</td>\n",
       "        <td>7.832857142857144</td>\n",
       "    </tr>\n",
       "    <tr>\n",
       "        <td>yes</td>\n",
       "        <td>no</td>\n",
       "        <td>9.492340425531914</td>\n",
       "    </tr>\n",
       "    <tr>\n",
       "        <td>yes</td>\n",
       "        <td>yes</td>\n",
       "        <td>9.885735294117652</td>\n",
       "    </tr>\n",
       "</table>"
      ],
      "text/plain": [
       "[('no', 'no', 7.67375),\n",
       " ('no', 'yes', 7.832857142857144),\n",
       " ('yes', 'no', 9.492340425531914),\n",
       " ('yes', 'yes', 9.885735294117652)]"
      ]
     },
     "execution_count": 46,
     "metadata": {},
     "output_type": "execute_result"
    }
   ],
   "source": [
    "%%sql\n",
    "select coastline, EU, avg(temperature)\n",
    "from Cities inner join Countries\n",
    "    on Cities.country = Countries.country\n",
    "group by coastline, EU"
   ]
  },
  {
   "cell_type": "markdown",
   "metadata": {},
   "source": [
    "*Modify previous query to only include cities with latitude < 50, then latitude < 40*"
   ]
  },
  {
   "cell_type": "markdown",
   "metadata": {},
   "source": [
    "### <font color = 'green'>Your Turn</font>"
   ]
  },
  {
   "cell_type": "markdown",
   "metadata": {},
   "source": [
    "*For each country in the EU, find the latitude of the northernmost city in the country, i.e., the maximum latitude. Return the country and its maximum latitude, in descending order of maximum latitude.*"
   ]
  },
  {
   "cell_type": "code",
   "execution_count": 17,
   "metadata": {},
   "outputs": [
    {
     "name": "stdout",
     "output_type": "stream",
     "text": [
      "(sqlite3.OperationalError) near \"YOUR\": syntax error [SQL: 'YOUR QUERY HERE']\n"
     ]
    }
   ],
   "source": [
    "%%sql\n",
    "YOUR QUERY HERE"
   ]
  },
  {
   "cell_type": "markdown",
   "metadata": {},
   "source": [
    "### The Limit clause"
   ]
  },
  {
   "cell_type": "markdown",
   "metadata": {},
   "source": [
    "*Return any three countries with population > 20*"
   ]
  },
  {
   "cell_type": "code",
   "execution_count": 18,
   "metadata": {},
   "outputs": [
    {
     "name": "stdout",
     "output_type": "stream",
     "text": [
      "Done.\n"
     ]
    },
    {
     "data": {
      "text/html": [
       "<table>\n",
       "    <tr>\n",
       "        <th>country</th>\n",
       "    </tr>\n",
       "    <tr>\n",
       "        <td>France</td>\n",
       "    </tr>\n",
       "    <tr>\n",
       "        <td>Germany</td>\n",
       "    </tr>\n",
       "    <tr>\n",
       "        <td>Italy</td>\n",
       "    </tr>\n",
       "</table>"
      ],
      "text/plain": [
       "[('France',), ('Germany',), ('Italy',)]"
      ]
     },
     "execution_count": 18,
     "metadata": {},
     "output_type": "execute_result"
    }
   ],
   "source": [
    "%%sql\n",
    "select country\n",
    "from Countries\n",
    "where population > 20\n",
    "limit 3"
   ]
  },
  {
   "cell_type": "markdown",
   "metadata": {},
   "source": [
    "*Find the ten coldest cities*"
   ]
  },
  {
   "cell_type": "code",
   "execution_count": 19,
   "metadata": {},
   "outputs": [
    {
     "name": "stdout",
     "output_type": "stream",
     "text": [
      "Done.\n"
     ]
    },
    {
     "data": {
      "text/html": [
       "<table>\n",
       "    <tr>\n",
       "        <th>city</th>\n",
       "        <th>temperature</th>\n",
       "    </tr>\n",
       "    <tr>\n",
       "        <td>Kiruna</td>\n",
       "        <td>-2.2</td>\n",
       "    </tr>\n",
       "    <tr>\n",
       "        <td>Abisko</td>\n",
       "        <td>0.2</td>\n",
       "    </tr>\n",
       "    <tr>\n",
       "        <td>Oulu</td>\n",
       "        <td>1.45</td>\n",
       "    </tr>\n",
       "    <tr>\n",
       "        <td>Bergen</td>\n",
       "        <td>1.75</td>\n",
       "    </tr>\n",
       "    <tr>\n",
       "        <td>Oslo</td>\n",
       "        <td>2.32</td>\n",
       "    </tr>\n",
       "    <tr>\n",
       "        <td>Tampere</td>\n",
       "        <td>3.59</td>\n",
       "    </tr>\n",
       "    <tr>\n",
       "        <td>Uppsala</td>\n",
       "        <td>4.17</td>\n",
       "    </tr>\n",
       "    <tr>\n",
       "        <td>Helsinki</td>\n",
       "        <td>4.19</td>\n",
       "    </tr>\n",
       "    <tr>\n",
       "        <td>Tartu</td>\n",
       "        <td>4.36</td>\n",
       "    </tr>\n",
       "    <tr>\n",
       "        <td>Bodo</td>\n",
       "        <td>4.5</td>\n",
       "    </tr>\n",
       "</table>"
      ],
      "text/plain": [
       "[('Kiruna', -2.2),\n",
       " ('Abisko', 0.2),\n",
       " ('Oulu', 1.45),\n",
       " ('Bergen', 1.75),\n",
       " ('Oslo', 2.32),\n",
       " ('Tampere', 3.59),\n",
       " ('Uppsala', 4.17),\n",
       " ('Helsinki', 4.19),\n",
       " ('Tartu', 4.36),\n",
       " ('Bodo', 4.5)]"
      ]
     },
     "execution_count": 19,
     "metadata": {},
     "output_type": "execute_result"
    }
   ],
   "source": [
    "%%sql\n",
    "select city, temperature\n",
    "from Cities\n",
    "order by temperature\n",
    "limit 10"
   ]
  },
  {
   "cell_type": "markdown",
   "metadata": {},
   "source": [
    "### <font color = 'green'>Your Turn - Basic SQL on World Cup Data</font>"
   ]
  },
  {
   "cell_type": "markdown",
   "metadata": {},
   "source": [
    "#### Look at sample of Players and Teams tables"
   ]
  },
  {
   "cell_type": "code",
   "execution_count": 20,
   "metadata": {},
   "outputs": [
    {
     "name": "stdout",
     "output_type": "stream",
     "text": [
      "Done.\n"
     ]
    },
    {
     "data": {
      "text/html": [
       "<table>\n",
       "    <tr>\n",
       "        <th>surname</th>\n",
       "        <th>team</th>\n",
       "        <th>position</th>\n",
       "        <th>minutes</th>\n",
       "        <th>shots</th>\n",
       "        <th>passes</th>\n",
       "        <th>tackles</th>\n",
       "        <th>saves</th>\n",
       "    </tr>\n",
       "    <tr>\n",
       "        <td>Abdoun</td>\n",
       "        <td>Algeria</td>\n",
       "        <td>midfielder</td>\n",
       "        <td>16</td>\n",
       "        <td>0</td>\n",
       "        <td>6</td>\n",
       "        <td>0</td>\n",
       "        <td>0</td>\n",
       "    </tr>\n",
       "    <tr>\n",
       "        <td>Belhadj</td>\n",
       "        <td>Algeria</td>\n",
       "        <td>defender</td>\n",
       "        <td>270</td>\n",
       "        <td>1</td>\n",
       "        <td>146</td>\n",
       "        <td>8</td>\n",
       "        <td>0</td>\n",
       "    </tr>\n",
       "    <tr>\n",
       "        <td>Boudebouz</td>\n",
       "        <td>Algeria</td>\n",
       "        <td>midfielder</td>\n",
       "        <td>74</td>\n",
       "        <td>3</td>\n",
       "        <td>28</td>\n",
       "        <td>1</td>\n",
       "        <td>0</td>\n",
       "    </tr>\n",
       "    <tr>\n",
       "        <td>Bougherra</td>\n",
       "        <td>Algeria</td>\n",
       "        <td>defender</td>\n",
       "        <td>270</td>\n",
       "        <td>1</td>\n",
       "        <td>89</td>\n",
       "        <td>11</td>\n",
       "        <td>0</td>\n",
       "    </tr>\n",
       "    <tr>\n",
       "        <td>Chaouchi</td>\n",
       "        <td>Algeria</td>\n",
       "        <td>goalkeeper</td>\n",
       "        <td>90</td>\n",
       "        <td>0</td>\n",
       "        <td>17</td>\n",
       "        <td>0</td>\n",
       "        <td>2</td>\n",
       "    </tr>\n",
       "</table>"
      ],
      "text/plain": [
       "[('Abdoun', 'Algeria', 'midfielder', 16, 0, 6, 0, 0),\n",
       " ('Belhadj', 'Algeria', 'defender', 270, 1, 146, 8, 0),\n",
       " ('Boudebouz', 'Algeria', 'midfielder', 74, 3, 28, 1, 0),\n",
       " ('Bougherra', 'Algeria', 'defender', 270, 1, 89, 11, 0),\n",
       " ('Chaouchi', 'Algeria', 'goalkeeper', 90, 0, 17, 0, 2)]"
      ]
     },
     "execution_count": 20,
     "metadata": {},
     "output_type": "execute_result"
    }
   ],
   "source": [
    "%%sql\n",
    "select * from Players limit 5"
   ]
  },
  {
   "cell_type": "code",
   "execution_count": 21,
   "metadata": {},
   "outputs": [
    {
     "name": "stdout",
     "output_type": "stream",
     "text": [
      "Done.\n"
     ]
    },
    {
     "data": {
      "text/html": [
       "<table>\n",
       "    <tr>\n",
       "        <th>team</th>\n",
       "        <th>ranking</th>\n",
       "        <th>games</th>\n",
       "        <th>wins</th>\n",
       "        <th>draws</th>\n",
       "        <th>losses</th>\n",
       "        <th>goalsFor</th>\n",
       "        <th>goalsAgainst</th>\n",
       "        <th>yellowCards</th>\n",
       "        <th>redCards</th>\n",
       "    </tr>\n",
       "    <tr>\n",
       "        <td>Brazil</td>\n",
       "        <td>1</td>\n",
       "        <td>5</td>\n",
       "        <td>3</td>\n",
       "        <td>1</td>\n",
       "        <td>1</td>\n",
       "        <td>9</td>\n",
       "        <td>4</td>\n",
       "        <td>7</td>\n",
       "        <td>2</td>\n",
       "    </tr>\n",
       "    <tr>\n",
       "        <td>Spain</td>\n",
       "        <td>2</td>\n",
       "        <td>6</td>\n",
       "        <td>5</td>\n",
       "        <td>0</td>\n",
       "        <td>1</td>\n",
       "        <td>7</td>\n",
       "        <td>2</td>\n",
       "        <td>3</td>\n",
       "        <td>0</td>\n",
       "    </tr>\n",
       "    <tr>\n",
       "        <td>Portugal</td>\n",
       "        <td>3</td>\n",
       "        <td>4</td>\n",
       "        <td>1</td>\n",
       "        <td>2</td>\n",
       "        <td>1</td>\n",
       "        <td>7</td>\n",
       "        <td>1</td>\n",
       "        <td>8</td>\n",
       "        <td>1</td>\n",
       "    </tr>\n",
       "    <tr>\n",
       "        <td>Netherlands</td>\n",
       "        <td>4</td>\n",
       "        <td>6</td>\n",
       "        <td>6</td>\n",
       "        <td>0</td>\n",
       "        <td>0</td>\n",
       "        <td>12</td>\n",
       "        <td>5</td>\n",
       "        <td>15</td>\n",
       "        <td>0</td>\n",
       "    </tr>\n",
       "    <tr>\n",
       "        <td>Italy</td>\n",
       "        <td>5</td>\n",
       "        <td>3</td>\n",
       "        <td>0</td>\n",
       "        <td>2</td>\n",
       "        <td>1</td>\n",
       "        <td>4</td>\n",
       "        <td>5</td>\n",
       "        <td>5</td>\n",
       "        <td>0</td>\n",
       "    </tr>\n",
       "</table>"
      ],
      "text/plain": [
       "[('Brazil', 1, 5, 3, 1, 1, 9, 4, 7, 2),\n",
       " ('Spain', 2, 6, 5, 0, 1, 7, 2, 3, 0),\n",
       " ('Portugal', 3, 4, 1, 2, 1, 7, 1, 8, 1),\n",
       " ('Netherlands', 4, 6, 6, 0, 0, 12, 5, 15, 0),\n",
       " ('Italy', 5, 3, 0, 2, 1, 4, 5, 5, 0)]"
      ]
     },
     "execution_count": 21,
     "metadata": {},
     "output_type": "execute_result"
    }
   ],
   "source": [
    "%%sql\n",
    "select * from Teams limit 5"
   ]
  },
  {
   "cell_type": "markdown",
   "metadata": {
    "collapsed": true
   },
   "source": [
    "*1)  What player on a team with “ia” in the team name played less than 200 minutes and made more than 100 passes? Return the player surname. Note: To check if attribute A contains string S use \"A like '%S%'\"*"
   ]
  },
  {
   "cell_type": "code",
   "execution_count": 22,
   "metadata": {},
   "outputs": [
    {
     "name": "stdout",
     "output_type": "stream",
     "text": [
      "Done.\n"
     ]
    },
    {
     "data": {
      "text/html": [
       "<table>\n",
       "    <tr>\n",
       "        <th>surname</th>\n",
       "    </tr>\n",
       "    <tr>\n",
       "        <td>Kuzmanovic</td>\n",
       "    </tr>\n",
       "</table>"
      ],
      "text/plain": [
       "[('Kuzmanovic',)]"
      ]
     },
     "execution_count": 22,
     "metadata": {},
     "output_type": "execute_result"
    }
   ],
   "source": [
    "%%sql\n",
    "select surname\n",
    "from Players\n",
    "where team LIKE \"%ia%\" and minutes < 200 and passes > 100"
   ]
  },
  {
   "cell_type": "markdown",
   "metadata": {
    "collapsed": true
   },
   "source": [
    "*2) Find all players who made more than 20 shots. Return all player information in descending order of shots made.*"
   ]
  },
  {
   "cell_type": "code",
   "execution_count": 23,
   "metadata": {},
   "outputs": [
    {
     "name": "stdout",
     "output_type": "stream",
     "text": [
      "Done.\n"
     ]
    },
    {
     "data": {
      "text/html": [
       "<table>\n",
       "    <tr>\n",
       "        <th>surname</th>\n",
       "        <th>team</th>\n",
       "        <th>position</th>\n",
       "        <th>minutes</th>\n",
       "        <th>shots</th>\n",
       "        <th>passes</th>\n",
       "        <th>tackles</th>\n",
       "        <th>saves</th>\n",
       "    </tr>\n",
       "    <tr>\n",
       "        <td>Gyan</td>\n",
       "        <td>Ghana</td>\n",
       "        <td>forward</td>\n",
       "        <td>501</td>\n",
       "        <td>27</td>\n",
       "        <td>151</td>\n",
       "        <td>1</td>\n",
       "        <td>0</td>\n",
       "    </tr>\n",
       "    <tr>\n",
       "        <td>Villa</td>\n",
       "        <td>Spain</td>\n",
       "        <td>forward</td>\n",
       "        <td>529</td>\n",
       "        <td>22</td>\n",
       "        <td>169</td>\n",
       "        <td>2</td>\n",
       "        <td>0</td>\n",
       "    </tr>\n",
       "    <tr>\n",
       "        <td>Messi</td>\n",
       "        <td>Argentina</td>\n",
       "        <td>forward</td>\n",
       "        <td>450</td>\n",
       "        <td>21</td>\n",
       "        <td>321</td>\n",
       "        <td>10</td>\n",
       "        <td>0</td>\n",
       "    </tr>\n",
       "</table>"
      ],
      "text/plain": [
       "[('Gyan', 'Ghana', 'forward', 501, 27, 151, 1, 0),\n",
       " ('Villa', 'Spain', 'forward', 529, 22, 169, 2, 0),\n",
       " ('Messi', 'Argentina', 'forward', 450, 21, 321, 10, 0)]"
      ]
     },
     "execution_count": 23,
     "metadata": {},
     "output_type": "execute_result"
    }
   ],
   "source": [
    "%%sql\n",
    "select *\n",
    "from Players\n",
    "where shots > 20\n",
    "order by shots desc"
   ]
  },
  {
   "cell_type": "markdown",
   "metadata": {
    "collapsed": true
   },
   "source": [
    "*3) Find the goalkeepers of teams that played more than four games. List the surname of the goalkeeper, the team, and the number of minutes the goalkeeper played.*"
   ]
  },
  {
   "cell_type": "code",
   "execution_count": 24,
   "metadata": {},
   "outputs": [
    {
     "name": "stdout",
     "output_type": "stream",
     "text": [
      "Done.\n"
     ]
    },
    {
     "data": {
      "text/html": [
       "<table>\n",
       "    <tr>\n",
       "        <th>surname</th>\n",
       "        <th>team</th>\n",
       "        <th>minutes</th>\n",
       "    </tr>\n",
       "    <tr>\n",
       "        <td>Romero</td>\n",
       "        <td>Argentina</td>\n",
       "        <td>450</td>\n",
       "    </tr>\n",
       "    <tr>\n",
       "        <td>Julio Cesar</td>\n",
       "        <td>Brazil</td>\n",
       "        <td>450</td>\n",
       "    </tr>\n",
       "    <tr>\n",
       "        <td>Neuer</td>\n",
       "        <td>Germany</td>\n",
       "        <td>540</td>\n",
       "    </tr>\n",
       "    <tr>\n",
       "        <td>Kingson</td>\n",
       "        <td>Ghana</td>\n",
       "        <td>510</td>\n",
       "    </tr>\n",
       "    <tr>\n",
       "        <td>Stekelenburg</td>\n",
       "        <td>Netherlands</td>\n",
       "        <td>540</td>\n",
       "    </tr>\n",
       "    <tr>\n",
       "        <td>Villar</td>\n",
       "        <td>Paraguay</td>\n",
       "        <td>480</td>\n",
       "    </tr>\n",
       "    <tr>\n",
       "        <td>Casillas</td>\n",
       "        <td>Spain</td>\n",
       "        <td>540</td>\n",
       "    </tr>\n",
       "    <tr>\n",
       "        <td>Muslera</td>\n",
       "        <td>Uruguay</td>\n",
       "        <td>570</td>\n",
       "    </tr>\n",
       "</table>"
      ],
      "text/plain": [
       "[('Romero', 'Argentina', 450),\n",
       " ('Julio Cesar', 'Brazil', 450),\n",
       " ('Neuer', 'Germany', 540),\n",
       " ('Kingson', 'Ghana', 510),\n",
       " ('Stekelenburg', 'Netherlands', 540),\n",
       " ('Villar', 'Paraguay', 480),\n",
       " ('Casillas', 'Spain', 540),\n",
       " ('Muslera', 'Uruguay', 570)]"
      ]
     },
     "execution_count": 24,
     "metadata": {},
     "output_type": "execute_result"
    }
   ],
   "source": [
    "%%sql\n",
    "select surname, Players.team, minutes\n",
    "from Players inner join Teams\n",
    "    on Players.team = Teams.team\n",
    "where position = 'goalkeeper' and games > 4"
   ]
  },
  {
   "cell_type": "markdown",
   "metadata": {
    "collapsed": true
   },
   "source": [
    "*4) How many players who play on a team with ranking <10 played more than 350 minutes? Return one number in a column named 'superstar'.*"
   ]
  },
  {
   "cell_type": "code",
   "execution_count": 25,
   "metadata": {},
   "outputs": [
    {
     "name": "stdout",
     "output_type": "stream",
     "text": [
      "Done.\n"
     ]
    },
    {
     "data": {
      "text/html": [
       "<table>\n",
       "    <tr>\n",
       "        <th>superstar</th>\n",
       "    </tr>\n",
       "    <tr>\n",
       "        <td>54</td>\n",
       "    </tr>\n",
       "</table>"
      ],
      "text/plain": [
       "[(54,)]"
      ]
     },
     "execution_count": 25,
     "metadata": {},
     "output_type": "execute_result"
    }
   ],
   "source": [
    "%%sql\n",
    "select count(surname) as superstar\n",
    "from Players inner join Teams\n",
    "    on Players.team = Teams.team\n",
    "where ranking < 10 and minutes > 350"
   ]
  },
  {
   "cell_type": "markdown",
   "metadata": {
    "collapsed": true
   },
   "source": [
    "*5) What is the average number of passes made by forwards? By midfielders? Write one query that gives both values.*"
   ]
  },
  {
   "cell_type": "code",
   "execution_count": 26,
   "metadata": {},
   "outputs": [
    {
     "name": "stdout",
     "output_type": "stream",
     "text": [
      "Done.\n"
     ]
    },
    {
     "data": {
      "text/html": [
       "<table>\n",
       "    <tr>\n",
       "        <th>position</th>\n",
       "        <th>avg(passes)</th>\n",
       "    </tr>\n",
       "    <tr>\n",
       "        <td>forward</td>\n",
       "        <td>50.82517482517483</td>\n",
       "    </tr>\n",
       "    <tr>\n",
       "        <td>midfielder</td>\n",
       "        <td>95.2719298245614</td>\n",
       "    </tr>\n",
       "</table>"
      ],
      "text/plain": [
       "[('forward', 50.82517482517483), ('midfielder', 95.2719298245614)]"
      ]
     },
     "execution_count": 26,
     "metadata": {},
     "output_type": "execute_result"
    }
   ],
   "source": [
    "%%sql\n",
    "select position, avg(passes)\n",
    "from Players\n",
    "where position = 'forward' or position = 'midfielder'\n",
    "group by position"
   ]
  },
  {
   "cell_type": "markdown",
   "metadata": {
    "collapsed": true
   },
   "source": [
    "*6) Find the ten players who have the highest number of shots + tackles. For each one return surname, team, position, and shots+tackles. Note: You can do arithmetic in Select and Order By clauses*"
   ]
  },
  {
   "cell_type": "code",
   "execution_count": 49,
   "metadata": {},
   "outputs": [
    {
     "name": "stdout",
     "output_type": "stream",
     "text": [
      "Done.\n"
     ]
    },
    {
     "data": {
      "text/html": [
       "<table>\n",
       "    <tr>\n",
       "        <th>surname</th>\n",
       "        <th>team</th>\n",
       "        <th>position</th>\n",
       "        <th>shots+tackles</th>\n",
       "    </tr>\n",
       "    <tr>\n",
       "        <td>Perez</td>\n",
       "        <td>Uruguay</td>\n",
       "        <td>midfielder</td>\n",
       "        <td>36</td>\n",
       "    </tr>\n",
       "    <tr>\n",
       "        <td>van Bommel</td>\n",
       "        <td>Netherlands</td>\n",
       "        <td>midfielder</td>\n",
       "        <td>33</td>\n",
       "    </tr>\n",
       "    <tr>\n",
       "        <td>Boateng</td>\n",
       "        <td>Ghana</td>\n",
       "        <td>midfielder</td>\n",
       "        <td>32</td>\n",
       "    </tr>\n",
       "    <tr>\n",
       "        <td>Messi</td>\n",
       "        <td>Argentina</td>\n",
       "        <td>forward</td>\n",
       "        <td>31</td>\n",
       "    </tr>\n",
       "    <tr>\n",
       "        <td>Schweinsteiger</td>\n",
       "        <td>Germany</td>\n",
       "        <td>midfielder</td>\n",
       "        <td>28</td>\n",
       "    </tr>\n",
       "    <tr>\n",
       "        <td>Gyan</td>\n",
       "        <td>Ghana</td>\n",
       "        <td>forward</td>\n",
       "        <td>28</td>\n",
       "    </tr>\n",
       "    <tr>\n",
       "        <td>Riveros</td>\n",
       "        <td>Paraguay</td>\n",
       "        <td>midfielder</td>\n",
       "        <td>27</td>\n",
       "    </tr>\n",
       "    <tr>\n",
       "        <td>Alonso</td>\n",
       "        <td>Spain</td>\n",
       "        <td>midfielder</td>\n",
       "        <td>27</td>\n",
       "    </tr>\n",
       "    <tr>\n",
       "        <td>Podolski</td>\n",
       "        <td>Germany</td>\n",
       "        <td>forward</td>\n",
       "        <td>26</td>\n",
       "    </tr>\n",
       "    <tr>\n",
       "        <td>Arevalo Rios</td>\n",
       "        <td>Uruguay</td>\n",
       "        <td>midfielder</td>\n",
       "        <td>26</td>\n",
       "    </tr>\n",
       "</table>"
      ],
      "text/plain": [
       "[('Perez', 'Uruguay', 'midfielder', 36),\n",
       " ('van Bommel', 'Netherlands', 'midfielder', 33),\n",
       " ('Boateng', 'Ghana', 'midfielder', 32),\n",
       " ('Messi', 'Argentina', 'forward', 31),\n",
       " ('Schweinsteiger', 'Germany', 'midfielder', 28),\n",
       " ('Gyan', 'Ghana', 'forward', 28),\n",
       " ('Riveros', 'Paraguay', 'midfielder', 27),\n",
       " ('Alonso', 'Spain', 'midfielder', 27),\n",
       " ('Podolski', 'Germany', 'forward', 26),\n",
       " ('Arevalo Rios', 'Uruguay', 'midfielder', 26)]"
      ]
     },
     "execution_count": 49,
     "metadata": {},
     "output_type": "execute_result"
    }
   ],
   "source": [
    "%%sql\n",
    "select surname, team, position, shots+tackles\n",
    "from Players\n",
    "order by shots+tackles desc\n",
    "limit 10"
   ]
  },
  {
   "cell_type": "code",
   "execution_count": null,
   "metadata": {
    "collapsed": true
   },
   "outputs": [],
   "source": []
  }
 ],
 "metadata": {
  "kernelspec": {
   "display_name": "Python 3",
   "language": "python",
   "name": "python3"
  },
  "language_info": {
   "codemirror_mode": {
    "name": "ipython",
    "version": 3
   },
   "file_extension": ".py",
   "mimetype": "text/x-python",
   "name": "python",
   "nbconvert_exporter": "python",
   "pygments_lexer": "ipython3",
   "version": "3.5.2"
  }
 },
 "nbformat": 4,
 "nbformat_minor": 1
}
